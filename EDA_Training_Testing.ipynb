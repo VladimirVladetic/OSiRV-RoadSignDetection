{
  "nbformat": 4,
  "nbformat_minor": 0,
  "metadata": {
    "colab": {
      "provenance": [],
      "gpuType": "T4",
      "authorship_tag": "ABX9TyNZweKk9qI02EMFz9E1YtSf",
      "include_colab_link": true
    },
    "kernelspec": {
      "name": "python3",
      "display_name": "Python 3"
    },
    "language_info": {
      "name": "python"
    },
    "accelerator": "GPU",
    "widgets": {
      "application/vnd.jupyter.widget-state+json": {
        "2808a3a3807a4cd0bacb8caec383411e": {
          "model_module": "@jupyter-widgets/controls",
          "model_name": "HBoxModel",
          "model_module_version": "1.5.0",
          "state": {
            "_dom_classes": [],
            "_model_module": "@jupyter-widgets/controls",
            "_model_module_version": "1.5.0",
            "_model_name": "HBoxModel",
            "_view_count": null,
            "_view_module": "@jupyter-widgets/controls",
            "_view_module_version": "1.5.0",
            "_view_name": "HBoxView",
            "box_style": "",
            "children": [
              "IPY_MODEL_9aea2ab28bf44bffa6e169d772049bdc",
              "IPY_MODEL_d1b061c8f0cc4fea84237ca0b8237fb6",
              "IPY_MODEL_cb7fbf441be44b0b8cb1483860b0cae1"
            ],
            "layout": "IPY_MODEL_eb510674cb224cc587527b01ba5e9161"
          }
        },
        "9aea2ab28bf44bffa6e169d772049bdc": {
          "model_module": "@jupyter-widgets/controls",
          "model_name": "HTMLModel",
          "model_module_version": "1.5.0",
          "state": {
            "_dom_classes": [],
            "_model_module": "@jupyter-widgets/controls",
            "_model_module_version": "1.5.0",
            "_model_name": "HTMLModel",
            "_view_count": null,
            "_view_module": "@jupyter-widgets/controls",
            "_view_module_version": "1.5.0",
            "_view_name": "HTMLView",
            "description": "",
            "description_tooltip": null,
            "layout": "IPY_MODEL_2520641c4bfc4c209835cd10eb33004c",
            "placeholder": "​",
            "style": "IPY_MODEL_d739b2656f2f4006aba092ed45c3e446",
            "value": "100%"
          }
        },
        "d1b061c8f0cc4fea84237ca0b8237fb6": {
          "model_module": "@jupyter-widgets/controls",
          "model_name": "FloatProgressModel",
          "model_module_version": "1.5.0",
          "state": {
            "_dom_classes": [],
            "_model_module": "@jupyter-widgets/controls",
            "_model_module_version": "1.5.0",
            "_model_name": "FloatProgressModel",
            "_view_count": null,
            "_view_module": "@jupyter-widgets/controls",
            "_view_module_version": "1.5.0",
            "_view_name": "ProgressView",
            "bar_style": "success",
            "description": "",
            "description_tooltip": null,
            "layout": "IPY_MODEL_1a79115a8a3e4b5191150b3b08142f53",
            "max": 877,
            "min": 0,
            "orientation": "horizontal",
            "style": "IPY_MODEL_01d61a1cefaf4be686a2ef42dfd461f3",
            "value": 877
          }
        },
        "cb7fbf441be44b0b8cb1483860b0cae1": {
          "model_module": "@jupyter-widgets/controls",
          "model_name": "HTMLModel",
          "model_module_version": "1.5.0",
          "state": {
            "_dom_classes": [],
            "_model_module": "@jupyter-widgets/controls",
            "_model_module_version": "1.5.0",
            "_model_name": "HTMLModel",
            "_view_count": null,
            "_view_module": "@jupyter-widgets/controls",
            "_view_module_version": "1.5.0",
            "_view_name": "HTMLView",
            "description": "",
            "description_tooltip": null,
            "layout": "IPY_MODEL_dcad2eefe7ca4c0d95995ae890f59b0b",
            "placeholder": "​",
            "style": "IPY_MODEL_6823545bd25b408582dcbf4404a2673f",
            "value": " 877/877 [00:00&lt;00:00, 1628.23it/s]"
          }
        },
        "eb510674cb224cc587527b01ba5e9161": {
          "model_module": "@jupyter-widgets/base",
          "model_name": "LayoutModel",
          "model_module_version": "1.2.0",
          "state": {
            "_model_module": "@jupyter-widgets/base",
            "_model_module_version": "1.2.0",
            "_model_name": "LayoutModel",
            "_view_count": null,
            "_view_module": "@jupyter-widgets/base",
            "_view_module_version": "1.2.0",
            "_view_name": "LayoutView",
            "align_content": null,
            "align_items": null,
            "align_self": null,
            "border": null,
            "bottom": null,
            "display": null,
            "flex": null,
            "flex_flow": null,
            "grid_area": null,
            "grid_auto_columns": null,
            "grid_auto_flow": null,
            "grid_auto_rows": null,
            "grid_column": null,
            "grid_gap": null,
            "grid_row": null,
            "grid_template_areas": null,
            "grid_template_columns": null,
            "grid_template_rows": null,
            "height": null,
            "justify_content": null,
            "justify_items": null,
            "left": null,
            "margin": null,
            "max_height": null,
            "max_width": null,
            "min_height": null,
            "min_width": null,
            "object_fit": null,
            "object_position": null,
            "order": null,
            "overflow": null,
            "overflow_x": null,
            "overflow_y": null,
            "padding": null,
            "right": null,
            "top": null,
            "visibility": null,
            "width": null
          }
        },
        "2520641c4bfc4c209835cd10eb33004c": {
          "model_module": "@jupyter-widgets/base",
          "model_name": "LayoutModel",
          "model_module_version": "1.2.0",
          "state": {
            "_model_module": "@jupyter-widgets/base",
            "_model_module_version": "1.2.0",
            "_model_name": "LayoutModel",
            "_view_count": null,
            "_view_module": "@jupyter-widgets/base",
            "_view_module_version": "1.2.0",
            "_view_name": "LayoutView",
            "align_content": null,
            "align_items": null,
            "align_self": null,
            "border": null,
            "bottom": null,
            "display": null,
            "flex": null,
            "flex_flow": null,
            "grid_area": null,
            "grid_auto_columns": null,
            "grid_auto_flow": null,
            "grid_auto_rows": null,
            "grid_column": null,
            "grid_gap": null,
            "grid_row": null,
            "grid_template_areas": null,
            "grid_template_columns": null,
            "grid_template_rows": null,
            "height": null,
            "justify_content": null,
            "justify_items": null,
            "left": null,
            "margin": null,
            "max_height": null,
            "max_width": null,
            "min_height": null,
            "min_width": null,
            "object_fit": null,
            "object_position": null,
            "order": null,
            "overflow": null,
            "overflow_x": null,
            "overflow_y": null,
            "padding": null,
            "right": null,
            "top": null,
            "visibility": null,
            "width": null
          }
        },
        "d739b2656f2f4006aba092ed45c3e446": {
          "model_module": "@jupyter-widgets/controls",
          "model_name": "DescriptionStyleModel",
          "model_module_version": "1.5.0",
          "state": {
            "_model_module": "@jupyter-widgets/controls",
            "_model_module_version": "1.5.0",
            "_model_name": "DescriptionStyleModel",
            "_view_count": null,
            "_view_module": "@jupyter-widgets/base",
            "_view_module_version": "1.2.0",
            "_view_name": "StyleView",
            "description_width": ""
          }
        },
        "1a79115a8a3e4b5191150b3b08142f53": {
          "model_module": "@jupyter-widgets/base",
          "model_name": "LayoutModel",
          "model_module_version": "1.2.0",
          "state": {
            "_model_module": "@jupyter-widgets/base",
            "_model_module_version": "1.2.0",
            "_model_name": "LayoutModel",
            "_view_count": null,
            "_view_module": "@jupyter-widgets/base",
            "_view_module_version": "1.2.0",
            "_view_name": "LayoutView",
            "align_content": null,
            "align_items": null,
            "align_self": null,
            "border": null,
            "bottom": null,
            "display": null,
            "flex": null,
            "flex_flow": null,
            "grid_area": null,
            "grid_auto_columns": null,
            "grid_auto_flow": null,
            "grid_auto_rows": null,
            "grid_column": null,
            "grid_gap": null,
            "grid_row": null,
            "grid_template_areas": null,
            "grid_template_columns": null,
            "grid_template_rows": null,
            "height": null,
            "justify_content": null,
            "justify_items": null,
            "left": null,
            "margin": null,
            "max_height": null,
            "max_width": null,
            "min_height": null,
            "min_width": null,
            "object_fit": null,
            "object_position": null,
            "order": null,
            "overflow": null,
            "overflow_x": null,
            "overflow_y": null,
            "padding": null,
            "right": null,
            "top": null,
            "visibility": null,
            "width": null
          }
        },
        "01d61a1cefaf4be686a2ef42dfd461f3": {
          "model_module": "@jupyter-widgets/controls",
          "model_name": "ProgressStyleModel",
          "model_module_version": "1.5.0",
          "state": {
            "_model_module": "@jupyter-widgets/controls",
            "_model_module_version": "1.5.0",
            "_model_name": "ProgressStyleModel",
            "_view_count": null,
            "_view_module": "@jupyter-widgets/base",
            "_view_module_version": "1.2.0",
            "_view_name": "StyleView",
            "bar_color": null,
            "description_width": ""
          }
        },
        "dcad2eefe7ca4c0d95995ae890f59b0b": {
          "model_module": "@jupyter-widgets/base",
          "model_name": "LayoutModel",
          "model_module_version": "1.2.0",
          "state": {
            "_model_module": "@jupyter-widgets/base",
            "_model_module_version": "1.2.0",
            "_model_name": "LayoutModel",
            "_view_count": null,
            "_view_module": "@jupyter-widgets/base",
            "_view_module_version": "1.2.0",
            "_view_name": "LayoutView",
            "align_content": null,
            "align_items": null,
            "align_self": null,
            "border": null,
            "bottom": null,
            "display": null,
            "flex": null,
            "flex_flow": null,
            "grid_area": null,
            "grid_auto_columns": null,
            "grid_auto_flow": null,
            "grid_auto_rows": null,
            "grid_column": null,
            "grid_gap": null,
            "grid_row": null,
            "grid_template_areas": null,
            "grid_template_columns": null,
            "grid_template_rows": null,
            "height": null,
            "justify_content": null,
            "justify_items": null,
            "left": null,
            "margin": null,
            "max_height": null,
            "max_width": null,
            "min_height": null,
            "min_width": null,
            "object_fit": null,
            "object_position": null,
            "order": null,
            "overflow": null,
            "overflow_x": null,
            "overflow_y": null,
            "padding": null,
            "right": null,
            "top": null,
            "visibility": null,
            "width": null
          }
        },
        "6823545bd25b408582dcbf4404a2673f": {
          "model_module": "@jupyter-widgets/controls",
          "model_name": "DescriptionStyleModel",
          "model_module_version": "1.5.0",
          "state": {
            "_model_module": "@jupyter-widgets/controls",
            "_model_module_version": "1.5.0",
            "_model_name": "DescriptionStyleModel",
            "_view_count": null,
            "_view_module": "@jupyter-widgets/base",
            "_view_module_version": "1.2.0",
            "_view_name": "StyleView",
            "description_width": ""
          }
        },
        "de4992b3ebbc47eb8b32262035d09724": {
          "model_module": "@jupyter-widgets/controls",
          "model_name": "HBoxModel",
          "model_module_version": "1.5.0",
          "state": {
            "_dom_classes": [],
            "_model_module": "@jupyter-widgets/controls",
            "_model_module_version": "1.5.0",
            "_model_name": "HBoxModel",
            "_view_count": null,
            "_view_module": "@jupyter-widgets/controls",
            "_view_module_version": "1.5.0",
            "_view_name": "HBoxView",
            "box_style": "",
            "children": [
              "IPY_MODEL_e26f4ba093f346538f0edf99373c2134",
              "IPY_MODEL_3d644412a71646e196ed3261f3d6941e",
              "IPY_MODEL_b8132e0847aa4b858d8ae2d98d652396"
            ],
            "layout": "IPY_MODEL_c42cc254b51c4e7b93f1ad9527b68643"
          }
        },
        "e26f4ba093f346538f0edf99373c2134": {
          "model_module": "@jupyter-widgets/controls",
          "model_name": "HTMLModel",
          "model_module_version": "1.5.0",
          "state": {
            "_dom_classes": [],
            "_model_module": "@jupyter-widgets/controls",
            "_model_module_version": "1.5.0",
            "_model_name": "HTMLModel",
            "_view_count": null,
            "_view_module": "@jupyter-widgets/controls",
            "_view_module_version": "1.5.0",
            "_view_name": "HTMLView",
            "description": "",
            "description_tooltip": null,
            "layout": "IPY_MODEL_b3c8c07acbff4fbb9e4dab8f442dac74",
            "placeholder": "​",
            "style": "IPY_MODEL_b27800b9a87942b1bbecfcd465a1b9b1",
            "value": "100%"
          }
        },
        "3d644412a71646e196ed3261f3d6941e": {
          "model_module": "@jupyter-widgets/controls",
          "model_name": "FloatProgressModel",
          "model_module_version": "1.5.0",
          "state": {
            "_dom_classes": [],
            "_model_module": "@jupyter-widgets/controls",
            "_model_module_version": "1.5.0",
            "_model_name": "FloatProgressModel",
            "_view_count": null,
            "_view_module": "@jupyter-widgets/controls",
            "_view_module_version": "1.5.0",
            "_view_name": "ProgressView",
            "bar_style": "success",
            "description": "",
            "description_tooltip": null,
            "layout": "IPY_MODEL_eff4946c2e39429f93fe6cec459369c8",
            "max": 995,
            "min": 0,
            "orientation": "horizontal",
            "style": "IPY_MODEL_fb7901bbe976437696e82f3172f4a9b5",
            "value": 995
          }
        },
        "b8132e0847aa4b858d8ae2d98d652396": {
          "model_module": "@jupyter-widgets/controls",
          "model_name": "HTMLModel",
          "model_module_version": "1.5.0",
          "state": {
            "_dom_classes": [],
            "_model_module": "@jupyter-widgets/controls",
            "_model_module_version": "1.5.0",
            "_model_name": "HTMLModel",
            "_view_count": null,
            "_view_module": "@jupyter-widgets/controls",
            "_view_module_version": "1.5.0",
            "_view_name": "HTMLView",
            "description": "",
            "description_tooltip": null,
            "layout": "IPY_MODEL_79e4a181f74c4a7280bbe8b112f97fe3",
            "placeholder": "​",
            "style": "IPY_MODEL_8e778743d7d146dab7067bd417e0c275",
            "value": " 995/995 [00:08&lt;00:00, 137.14it/s]"
          }
        },
        "c42cc254b51c4e7b93f1ad9527b68643": {
          "model_module": "@jupyter-widgets/base",
          "model_name": "LayoutModel",
          "model_module_version": "1.2.0",
          "state": {
            "_model_module": "@jupyter-widgets/base",
            "_model_module_version": "1.2.0",
            "_model_name": "LayoutModel",
            "_view_count": null,
            "_view_module": "@jupyter-widgets/base",
            "_view_module_version": "1.2.0",
            "_view_name": "LayoutView",
            "align_content": null,
            "align_items": null,
            "align_self": null,
            "border": null,
            "bottom": null,
            "display": null,
            "flex": null,
            "flex_flow": null,
            "grid_area": null,
            "grid_auto_columns": null,
            "grid_auto_flow": null,
            "grid_auto_rows": null,
            "grid_column": null,
            "grid_gap": null,
            "grid_row": null,
            "grid_template_areas": null,
            "grid_template_columns": null,
            "grid_template_rows": null,
            "height": null,
            "justify_content": null,
            "justify_items": null,
            "left": null,
            "margin": null,
            "max_height": null,
            "max_width": null,
            "min_height": null,
            "min_width": null,
            "object_fit": null,
            "object_position": null,
            "order": null,
            "overflow": null,
            "overflow_x": null,
            "overflow_y": null,
            "padding": null,
            "right": null,
            "top": null,
            "visibility": null,
            "width": null
          }
        },
        "b3c8c07acbff4fbb9e4dab8f442dac74": {
          "model_module": "@jupyter-widgets/base",
          "model_name": "LayoutModel",
          "model_module_version": "1.2.0",
          "state": {
            "_model_module": "@jupyter-widgets/base",
            "_model_module_version": "1.2.0",
            "_model_name": "LayoutModel",
            "_view_count": null,
            "_view_module": "@jupyter-widgets/base",
            "_view_module_version": "1.2.0",
            "_view_name": "LayoutView",
            "align_content": null,
            "align_items": null,
            "align_self": null,
            "border": null,
            "bottom": null,
            "display": null,
            "flex": null,
            "flex_flow": null,
            "grid_area": null,
            "grid_auto_columns": null,
            "grid_auto_flow": null,
            "grid_auto_rows": null,
            "grid_column": null,
            "grid_gap": null,
            "grid_row": null,
            "grid_template_areas": null,
            "grid_template_columns": null,
            "grid_template_rows": null,
            "height": null,
            "justify_content": null,
            "justify_items": null,
            "left": null,
            "margin": null,
            "max_height": null,
            "max_width": null,
            "min_height": null,
            "min_width": null,
            "object_fit": null,
            "object_position": null,
            "order": null,
            "overflow": null,
            "overflow_x": null,
            "overflow_y": null,
            "padding": null,
            "right": null,
            "top": null,
            "visibility": null,
            "width": null
          }
        },
        "b27800b9a87942b1bbecfcd465a1b9b1": {
          "model_module": "@jupyter-widgets/controls",
          "model_name": "DescriptionStyleModel",
          "model_module_version": "1.5.0",
          "state": {
            "_model_module": "@jupyter-widgets/controls",
            "_model_module_version": "1.5.0",
            "_model_name": "DescriptionStyleModel",
            "_view_count": null,
            "_view_module": "@jupyter-widgets/base",
            "_view_module_version": "1.2.0",
            "_view_name": "StyleView",
            "description_width": ""
          }
        },
        "eff4946c2e39429f93fe6cec459369c8": {
          "model_module": "@jupyter-widgets/base",
          "model_name": "LayoutModel",
          "model_module_version": "1.2.0",
          "state": {
            "_model_module": "@jupyter-widgets/base",
            "_model_module_version": "1.2.0",
            "_model_name": "LayoutModel",
            "_view_count": null,
            "_view_module": "@jupyter-widgets/base",
            "_view_module_version": "1.2.0",
            "_view_name": "LayoutView",
            "align_content": null,
            "align_items": null,
            "align_self": null,
            "border": null,
            "bottom": null,
            "display": null,
            "flex": null,
            "flex_flow": null,
            "grid_area": null,
            "grid_auto_columns": null,
            "grid_auto_flow": null,
            "grid_auto_rows": null,
            "grid_column": null,
            "grid_gap": null,
            "grid_row": null,
            "grid_template_areas": null,
            "grid_template_columns": null,
            "grid_template_rows": null,
            "height": null,
            "justify_content": null,
            "justify_items": null,
            "left": null,
            "margin": null,
            "max_height": null,
            "max_width": null,
            "min_height": null,
            "min_width": null,
            "object_fit": null,
            "object_position": null,
            "order": null,
            "overflow": null,
            "overflow_x": null,
            "overflow_y": null,
            "padding": null,
            "right": null,
            "top": null,
            "visibility": null,
            "width": null
          }
        },
        "fb7901bbe976437696e82f3172f4a9b5": {
          "model_module": "@jupyter-widgets/controls",
          "model_name": "ProgressStyleModel",
          "model_module_version": "1.5.0",
          "state": {
            "_model_module": "@jupyter-widgets/controls",
            "_model_module_version": "1.5.0",
            "_model_name": "ProgressStyleModel",
            "_view_count": null,
            "_view_module": "@jupyter-widgets/base",
            "_view_module_version": "1.2.0",
            "_view_name": "StyleView",
            "bar_color": null,
            "description_width": ""
          }
        },
        "79e4a181f74c4a7280bbe8b112f97fe3": {
          "model_module": "@jupyter-widgets/base",
          "model_name": "LayoutModel",
          "model_module_version": "1.2.0",
          "state": {
            "_model_module": "@jupyter-widgets/base",
            "_model_module_version": "1.2.0",
            "_model_name": "LayoutModel",
            "_view_count": null,
            "_view_module": "@jupyter-widgets/base",
            "_view_module_version": "1.2.0",
            "_view_name": "LayoutView",
            "align_content": null,
            "align_items": null,
            "align_self": null,
            "border": null,
            "bottom": null,
            "display": null,
            "flex": null,
            "flex_flow": null,
            "grid_area": null,
            "grid_auto_columns": null,
            "grid_auto_flow": null,
            "grid_auto_rows": null,
            "grid_column": null,
            "grid_gap": null,
            "grid_row": null,
            "grid_template_areas": null,
            "grid_template_columns": null,
            "grid_template_rows": null,
            "height": null,
            "justify_content": null,
            "justify_items": null,
            "left": null,
            "margin": null,
            "max_height": null,
            "max_width": null,
            "min_height": null,
            "min_width": null,
            "object_fit": null,
            "object_position": null,
            "order": null,
            "overflow": null,
            "overflow_x": null,
            "overflow_y": null,
            "padding": null,
            "right": null,
            "top": null,
            "visibility": null,
            "width": null
          }
        },
        "8e778743d7d146dab7067bd417e0c275": {
          "model_module": "@jupyter-widgets/controls",
          "model_name": "DescriptionStyleModel",
          "model_module_version": "1.5.0",
          "state": {
            "_model_module": "@jupyter-widgets/controls",
            "_model_module_version": "1.5.0",
            "_model_name": "DescriptionStyleModel",
            "_view_count": null,
            "_view_module": "@jupyter-widgets/base",
            "_view_module_version": "1.2.0",
            "_view_name": "StyleView",
            "description_width": ""
          }
        },
        "d39ed92334d04f6fa0f96839dcd2c11f": {
          "model_module": "@jupyter-widgets/controls",
          "model_name": "HBoxModel",
          "model_module_version": "1.5.0",
          "state": {
            "_dom_classes": [],
            "_model_module": "@jupyter-widgets/controls",
            "_model_module_version": "1.5.0",
            "_model_name": "HBoxModel",
            "_view_count": null,
            "_view_module": "@jupyter-widgets/controls",
            "_view_module_version": "1.5.0",
            "_view_name": "HBoxView",
            "box_style": "",
            "children": [
              "IPY_MODEL_e95d97fce0e044339faffae7aee4d104",
              "IPY_MODEL_c7102c50d62a4bf593af0e87937cb91e",
              "IPY_MODEL_15945ae0f53147a18ac812c1825dad1d"
            ],
            "layout": "IPY_MODEL_087b9e66bc8443b59c4b4612f0eb6e1b"
          }
        },
        "e95d97fce0e044339faffae7aee4d104": {
          "model_module": "@jupyter-widgets/controls",
          "model_name": "HTMLModel",
          "model_module_version": "1.5.0",
          "state": {
            "_dom_classes": [],
            "_model_module": "@jupyter-widgets/controls",
            "_model_module_version": "1.5.0",
            "_model_name": "HTMLModel",
            "_view_count": null,
            "_view_module": "@jupyter-widgets/controls",
            "_view_module_version": "1.5.0",
            "_view_name": "HTMLView",
            "description": "",
            "description_tooltip": null,
            "layout": "IPY_MODEL_b4f065dd8f0d4ae2bcfc07d1633ba9ec",
            "placeholder": "​",
            "style": "IPY_MODEL_1a176dfe81aa47c5b685ba9d5842830f",
            "value": "100%"
          }
        },
        "c7102c50d62a4bf593af0e87937cb91e": {
          "model_module": "@jupyter-widgets/controls",
          "model_name": "FloatProgressModel",
          "model_module_version": "1.5.0",
          "state": {
            "_dom_classes": [],
            "_model_module": "@jupyter-widgets/controls",
            "_model_module_version": "1.5.0",
            "_model_name": "FloatProgressModel",
            "_view_count": null,
            "_view_module": "@jupyter-widgets/controls",
            "_view_module_version": "1.5.0",
            "_view_name": "ProgressView",
            "bar_style": "success",
            "description": "",
            "description_tooltip": null,
            "layout": "IPY_MODEL_c71941b2e7294bb08d499020efe23779",
            "max": 995,
            "min": 0,
            "orientation": "horizontal",
            "style": "IPY_MODEL_eddeb015ec0d437c9a418bdc79b45fde",
            "value": 995
          }
        },
        "15945ae0f53147a18ac812c1825dad1d": {
          "model_module": "@jupyter-widgets/controls",
          "model_name": "HTMLModel",
          "model_module_version": "1.5.0",
          "state": {
            "_dom_classes": [],
            "_model_module": "@jupyter-widgets/controls",
            "_model_module_version": "1.5.0",
            "_model_name": "HTMLModel",
            "_view_count": null,
            "_view_module": "@jupyter-widgets/controls",
            "_view_module_version": "1.5.0",
            "_view_name": "HTMLView",
            "description": "",
            "description_tooltip": null,
            "layout": "IPY_MODEL_3f38f8f856f445a2a29751f39b21e8da",
            "placeholder": "​",
            "style": "IPY_MODEL_1bf21241d18947638e2cb9b53ff94be2",
            "value": " 995/995 [00:01&lt;00:00, 710.90it/s]"
          }
        },
        "087b9e66bc8443b59c4b4612f0eb6e1b": {
          "model_module": "@jupyter-widgets/base",
          "model_name": "LayoutModel",
          "model_module_version": "1.2.0",
          "state": {
            "_model_module": "@jupyter-widgets/base",
            "_model_module_version": "1.2.0",
            "_model_name": "LayoutModel",
            "_view_count": null,
            "_view_module": "@jupyter-widgets/base",
            "_view_module_version": "1.2.0",
            "_view_name": "LayoutView",
            "align_content": null,
            "align_items": null,
            "align_self": null,
            "border": null,
            "bottom": null,
            "display": null,
            "flex": null,
            "flex_flow": null,
            "grid_area": null,
            "grid_auto_columns": null,
            "grid_auto_flow": null,
            "grid_auto_rows": null,
            "grid_column": null,
            "grid_gap": null,
            "grid_row": null,
            "grid_template_areas": null,
            "grid_template_columns": null,
            "grid_template_rows": null,
            "height": null,
            "justify_content": null,
            "justify_items": null,
            "left": null,
            "margin": null,
            "max_height": null,
            "max_width": null,
            "min_height": null,
            "min_width": null,
            "object_fit": null,
            "object_position": null,
            "order": null,
            "overflow": null,
            "overflow_x": null,
            "overflow_y": null,
            "padding": null,
            "right": null,
            "top": null,
            "visibility": null,
            "width": null
          }
        },
        "b4f065dd8f0d4ae2bcfc07d1633ba9ec": {
          "model_module": "@jupyter-widgets/base",
          "model_name": "LayoutModel",
          "model_module_version": "1.2.0",
          "state": {
            "_model_module": "@jupyter-widgets/base",
            "_model_module_version": "1.2.0",
            "_model_name": "LayoutModel",
            "_view_count": null,
            "_view_module": "@jupyter-widgets/base",
            "_view_module_version": "1.2.0",
            "_view_name": "LayoutView",
            "align_content": null,
            "align_items": null,
            "align_self": null,
            "border": null,
            "bottom": null,
            "display": null,
            "flex": null,
            "flex_flow": null,
            "grid_area": null,
            "grid_auto_columns": null,
            "grid_auto_flow": null,
            "grid_auto_rows": null,
            "grid_column": null,
            "grid_gap": null,
            "grid_row": null,
            "grid_template_areas": null,
            "grid_template_columns": null,
            "grid_template_rows": null,
            "height": null,
            "justify_content": null,
            "justify_items": null,
            "left": null,
            "margin": null,
            "max_height": null,
            "max_width": null,
            "min_height": null,
            "min_width": null,
            "object_fit": null,
            "object_position": null,
            "order": null,
            "overflow": null,
            "overflow_x": null,
            "overflow_y": null,
            "padding": null,
            "right": null,
            "top": null,
            "visibility": null,
            "width": null
          }
        },
        "1a176dfe81aa47c5b685ba9d5842830f": {
          "model_module": "@jupyter-widgets/controls",
          "model_name": "DescriptionStyleModel",
          "model_module_version": "1.5.0",
          "state": {
            "_model_module": "@jupyter-widgets/controls",
            "_model_module_version": "1.5.0",
            "_model_name": "DescriptionStyleModel",
            "_view_count": null,
            "_view_module": "@jupyter-widgets/base",
            "_view_module_version": "1.2.0",
            "_view_name": "StyleView",
            "description_width": ""
          }
        },
        "c71941b2e7294bb08d499020efe23779": {
          "model_module": "@jupyter-widgets/base",
          "model_name": "LayoutModel",
          "model_module_version": "1.2.0",
          "state": {
            "_model_module": "@jupyter-widgets/base",
            "_model_module_version": "1.2.0",
            "_model_name": "LayoutModel",
            "_view_count": null,
            "_view_module": "@jupyter-widgets/base",
            "_view_module_version": "1.2.0",
            "_view_name": "LayoutView",
            "align_content": null,
            "align_items": null,
            "align_self": null,
            "border": null,
            "bottom": null,
            "display": null,
            "flex": null,
            "flex_flow": null,
            "grid_area": null,
            "grid_auto_columns": null,
            "grid_auto_flow": null,
            "grid_auto_rows": null,
            "grid_column": null,
            "grid_gap": null,
            "grid_row": null,
            "grid_template_areas": null,
            "grid_template_columns": null,
            "grid_template_rows": null,
            "height": null,
            "justify_content": null,
            "justify_items": null,
            "left": null,
            "margin": null,
            "max_height": null,
            "max_width": null,
            "min_height": null,
            "min_width": null,
            "object_fit": null,
            "object_position": null,
            "order": null,
            "overflow": null,
            "overflow_x": null,
            "overflow_y": null,
            "padding": null,
            "right": null,
            "top": null,
            "visibility": null,
            "width": null
          }
        },
        "eddeb015ec0d437c9a418bdc79b45fde": {
          "model_module": "@jupyter-widgets/controls",
          "model_name": "ProgressStyleModel",
          "model_module_version": "1.5.0",
          "state": {
            "_model_module": "@jupyter-widgets/controls",
            "_model_module_version": "1.5.0",
            "_model_name": "ProgressStyleModel",
            "_view_count": null,
            "_view_module": "@jupyter-widgets/base",
            "_view_module_version": "1.2.0",
            "_view_name": "StyleView",
            "bar_color": null,
            "description_width": ""
          }
        },
        "3f38f8f856f445a2a29751f39b21e8da": {
          "model_module": "@jupyter-widgets/base",
          "model_name": "LayoutModel",
          "model_module_version": "1.2.0",
          "state": {
            "_model_module": "@jupyter-widgets/base",
            "_model_module_version": "1.2.0",
            "_model_name": "LayoutModel",
            "_view_count": null,
            "_view_module": "@jupyter-widgets/base",
            "_view_module_version": "1.2.0",
            "_view_name": "LayoutView",
            "align_content": null,
            "align_items": null,
            "align_self": null,
            "border": null,
            "bottom": null,
            "display": null,
            "flex": null,
            "flex_flow": null,
            "grid_area": null,
            "grid_auto_columns": null,
            "grid_auto_flow": null,
            "grid_auto_rows": null,
            "grid_column": null,
            "grid_gap": null,
            "grid_row": null,
            "grid_template_areas": null,
            "grid_template_columns": null,
            "grid_template_rows": null,
            "height": null,
            "justify_content": null,
            "justify_items": null,
            "left": null,
            "margin": null,
            "max_height": null,
            "max_width": null,
            "min_height": null,
            "min_width": null,
            "object_fit": null,
            "object_position": null,
            "order": null,
            "overflow": null,
            "overflow_x": null,
            "overflow_y": null,
            "padding": null,
            "right": null,
            "top": null,
            "visibility": null,
            "width": null
          }
        },
        "1bf21241d18947638e2cb9b53ff94be2": {
          "model_module": "@jupyter-widgets/controls",
          "model_name": "DescriptionStyleModel",
          "model_module_version": "1.5.0",
          "state": {
            "_model_module": "@jupyter-widgets/controls",
            "_model_module_version": "1.5.0",
            "_model_name": "DescriptionStyleModel",
            "_view_count": null,
            "_view_module": "@jupyter-widgets/base",
            "_view_module_version": "1.2.0",
            "_view_name": "StyleView",
            "description_width": ""
          }
        }
      }
    }
  },
  "cells": [
    {
      "cell_type": "markdown",
      "metadata": {
        "id": "view-in-github",
        "colab_type": "text"
      },
      "source": [
        "<a href=\"https://colab.research.google.com/github/VladimirVladetic/OSiRV-RoadSignDetection/blob/main/EDA_Training_Testing.ipynb\" target=\"_parent\"><img src=\"https://colab.research.google.com/assets/colab-badge.svg\" alt=\"Open In Colab\"/></a>"
      ]
    },
    {
      "cell_type": "code",
      "source": [
        "def remove_images_with_zero_dimensions(images_array, class_label_array, bbox_array):\n",
        "    indices_to_remove = []\n",
        "    for i, image in enumerate(images_array):\n",
        "        height, width, channels = image.shape\n",
        "        if height == 0 or width == 0:\n",
        "            indices_to_remove.append(i)\n",
        "    images_array = np.delete(images_array, indices_to_remove, axis=0)\n",
        "    class_label_array = np.delete(class_label_array, indices_to_remove, axis=0)\n",
        "    bbox_array = np.delete(bbox_array, indices_to_remove, axis=0)\n",
        "\n",
        "    return images_array, class_label_array, bbox_array, indices_to_remove"
      ],
      "metadata": {
        "id": "InaWvpg0EpF1"
      },
      "execution_count": 3,
      "outputs": []
    },
    {
      "cell_type": "code",
      "source": [
        "from skimage import feature\n",
        "\n",
        "def extract_features_edge(images, height, width):\n",
        "    features = []\n",
        "    for var_img  in tqdm(images):\n",
        "\n",
        "        edge_channels = [feature.canny(var_img[:, :, i]) for i in range(3)]\n",
        "        edges = np.stack(edge_channels, axis=-1)\n",
        "        edges_image = Image.fromarray(edges.astype(np.uint8) * 255)\n",
        "        edges_image = edges_image.resize((height, width), Image.ANTIALIAS)\n",
        "        edges_image = np.array(edges_image)\n",
        "        edges_image = edges_image / 255.0\n",
        "        features.append(edges_image)\n",
        "\n",
        "    features = np.array(features)\n",
        "    features = features.reshape(len(features), height, width, 3)\n",
        "    features = np.array(features, dtype=np.float64)\n",
        "    return features"
      ],
      "metadata": {
        "id": "H7DoHa8WEJmq"
      },
      "execution_count": null,
      "outputs": []
    },
    {
      "cell_type": "code",
      "source": [
        "from skimage import feature\n",
        "\n",
        "def extract_features_edge_with_padding(images, height, width):\n",
        "    features = []\n",
        "    for var_img  in tqdm(images):\n",
        "\n",
        "        padding_needed = False\n",
        "        if var_img.shape[0] < height or var_img.shape[1] < width:\n",
        "            padding_needed = True\n",
        "        if padding_needed:\n",
        "            pad_height = max(0, height - var_img.shape[0])\n",
        "            pad_width = max(0, width - var_img.shape[1])\n",
        "            top_pad = pad_height // 2\n",
        "            bottom_pad = pad_height - top_pad\n",
        "            left_pad = pad_width // 2\n",
        "            right_pad = pad_width - left_pad\n",
        "            var_img = np.pad(var_img, ((top_pad, bottom_pad), (left_pad, right_pad), (0, 0)), mode='constant')\n",
        "\n",
        "        edge_channels = [feature.canny(var_img[:, :, i]) for i in range(3)]\n",
        "        edges = np.stack(edge_channels, axis=-1)\n",
        "        edges_image = Image.fromarray(edges.astype(np.uint8) * 255)\n",
        "        edges_image = edges_image.resize((height, width), Image.ANTIALIAS)\n",
        "        edges_image = np.array(edges_image)\n",
        "        edges_image = edges_image / 255.0\n",
        "        features.append(edges_image)\n",
        "\n",
        "    features = np.array(features)\n",
        "    features = features.reshape(len(features), height, width, 3)\n",
        "    features = np.array(features, dtype=np.float64)\n",
        "    return features"
      ],
      "metadata": {
        "id": "LGHHFoPTuTAu"
      },
      "execution_count": 49,
      "outputs": []
    },
    {
      "cell_type": "code",
      "source": [
        "from skimage.morphology import erosion, dilation\n",
        "from PIL import Image\n",
        "from skimage import feature\n",
        "\n",
        "def extract_features_erosion_dilatation(images, height, width):\n",
        "    features = []\n",
        "    for var_img in tqdm(images):\n",
        "\n",
        "        eroded = erosion(var_img)\n",
        "        dilated = dilation(eroded)\n",
        "        dilated = (dilated * 255).astype(np.uint8)\n",
        "        edges_image = Image.fromarray(dilated)\n",
        "        edges_image = edges_image.resize((height, width), Image.ANTIALIAS)\n",
        "        edges_image = np.array(edges_image) / 255.0\n",
        "        features.append(edges_image)\n",
        "\n",
        "    features = np.array(features)\n",
        "    features = features.reshape(len(features), height, width, 3)\n",
        "    features = np.array(features, dtype=np.float64)\n",
        "    return features"
      ],
      "metadata": {
        "id": "KTvQoQ6mEN4X"
      },
      "execution_count": null,
      "outputs": []
    },
    {
      "cell_type": "code",
      "source": [
        "from skimage.morphology import erosion, dilation\n",
        "from PIL import Image\n",
        "from skimage import feature\n",
        "\n",
        "def extract_features_erosion_dilatation_with_padding(images, height, width):\n",
        "    features = []\n",
        "    for var_img in tqdm(images):\n",
        "\n",
        "        padding_needed = False\n",
        "        if var_img.shape[0] < height or var_img.shape[1] < width:\n",
        "            padding_needed = True\n",
        "        if padding_needed:\n",
        "            pad_height = max(0, height - var_img.shape[0])\n",
        "            pad_width = max(0, width - var_img.shape[1])\n",
        "            top_pad = pad_height // 2\n",
        "            bottom_pad = pad_height - top_pad\n",
        "            left_pad = pad_width // 2\n",
        "            right_pad = pad_width - left_pad\n",
        "            var_img = np.pad(var_img, ((top_pad, bottom_pad), (left_pad, right_pad), (0, 0)), mode='constant')\n",
        "\n",
        "        eroded = erosion(var_img)\n",
        "        dilated = dilation(eroded)\n",
        "        dilated = (dilated * 255).astype(np.uint8)\n",
        "        edges_image = Image.fromarray(dilated)\n",
        "        edges_image = edges_image.resize((height, width), Image.ANTIALIAS)\n",
        "        edges_image = np.array(edges_image) / 255.0\n",
        "        features.append(edges_image)\n",
        "\n",
        "    features = np.array(features)\n",
        "    features = features.reshape(len(features), height, width, 3)\n",
        "    features = np.array(features, dtype=np.float64)\n",
        "    return features"
      ],
      "metadata": {
        "id": "g1TdfYMc7zGr"
      },
      "execution_count": 32,
      "outputs": []
    },
    {
      "cell_type": "code",
      "source": [
        "from PIL import ImageOps\n",
        "\n",
        "def extract_features_contrast(images, height, width):\n",
        "    features = []\n",
        "    for image in tqdm(images):\n",
        "\n",
        "        var_img = Image.fromarray(image, mode='RGB')\n",
        "        var_img = ImageOps.equalize(var_img, mask=None) ## Contrast enhancement\n",
        "        var_img = var_img.resize((height,width), Image.ANTIALIAS)\n",
        "        var_img = np.array(var_img)\n",
        "        var_img = var_img / 255.0\n",
        "        features.append(var_img)\n",
        "    features = np.array(features)\n",
        "    features = features.reshape(len(features), height, width, 3)\n",
        "    features = np.array(features, dtype=np.float64)\n",
        "    return features"
      ],
      "metadata": {
        "id": "SDr6OwjjERyN"
      },
      "execution_count": null,
      "outputs": []
    },
    {
      "cell_type": "code",
      "source": [
        "from PIL import ImageOps\n",
        "\n",
        "def extract_features_contrast_with_padding(images, height, width):\n",
        "    features = []\n",
        "    for image in tqdm(images):\n",
        "\n",
        "        padding_needed = False\n",
        "        if var_img.shape[0] < height or var_img.shape[1] < width:\n",
        "            padding_needed = True\n",
        "        if padding_needed:\n",
        "            pad_height = max(0, height - var_img.shape[0])\n",
        "            pad_width = max(0, width - var_img.shape[1])\n",
        "            top_pad = pad_height // 2\n",
        "            bottom_pad = pad_height - top_pad\n",
        "            left_pad = pad_width // 2\n",
        "            right_pad = pad_width - left_pad\n",
        "            var_img = np.pad(var_img, ((top_pad, bottom_pad), (left_pad, right_pad), (0, 0)), mode='constant')\n",
        "\n",
        "        var_img = Image.fromarray(image, mode='RGB')\n",
        "        var_img = ImageOps.equalize(var_img, mask=None) ## Contrast enhancement\n",
        "        var_img = var_img.resize((height,width), Image.ANTIALIAS)\n",
        "        var_img = np.array(var_img)\n",
        "        var_img = var_img / 255.0\n",
        "        features.append(var_img)\n",
        "    features = np.array(features)\n",
        "    features = features.reshape(len(features), height, width, 3)\n",
        "    features = np.array(features, dtype=np.float64)\n",
        "    return features"
      ],
      "metadata": {
        "id": "d1MGDOVWppjN"
      },
      "execution_count": 48,
      "outputs": []
    },
    {
      "cell_type": "code",
      "source": [
        "! pip install pybboxes\n",
        "! pip install kaggle"
      ],
      "metadata": {
        "id": "vjDmNcTO6U8M",
        "colab": {
          "base_uri": "https://localhost:8080/"
        },
        "outputId": "5595bb8b-2a8b-4b1f-8639-5fb3556a0879"
      },
      "execution_count": 1,
      "outputs": [
        {
          "output_type": "stream",
          "name": "stdout",
          "text": [
            "Collecting pybboxes\n",
            "  Downloading pybboxes-0.1.6-py3-none-any.whl (24 kB)\n",
            "Requirement already satisfied: numpy in /usr/local/lib/python3.10/dist-packages (from pybboxes) (1.25.2)\n",
            "Installing collected packages: pybboxes\n",
            "Successfully installed pybboxes-0.1.6\n",
            "Requirement already satisfied: kaggle in /usr/local/lib/python3.10/dist-packages (1.5.16)\n",
            "Requirement already satisfied: six>=1.10 in /usr/local/lib/python3.10/dist-packages (from kaggle) (1.16.0)\n",
            "Requirement already satisfied: certifi in /usr/local/lib/python3.10/dist-packages (from kaggle) (2024.2.2)\n",
            "Requirement already satisfied: python-dateutil in /usr/local/lib/python3.10/dist-packages (from kaggle) (2.8.2)\n",
            "Requirement already satisfied: requests in /usr/local/lib/python3.10/dist-packages (from kaggle) (2.31.0)\n",
            "Requirement already satisfied: tqdm in /usr/local/lib/python3.10/dist-packages (from kaggle) (4.66.2)\n",
            "Requirement already satisfied: python-slugify in /usr/local/lib/python3.10/dist-packages (from kaggle) (8.0.4)\n",
            "Requirement already satisfied: urllib3 in /usr/local/lib/python3.10/dist-packages (from kaggle) (2.0.7)\n",
            "Requirement already satisfied: bleach in /usr/local/lib/python3.10/dist-packages (from kaggle) (6.1.0)\n",
            "Requirement already satisfied: webencodings in /usr/local/lib/python3.10/dist-packages (from bleach->kaggle) (0.5.1)\n",
            "Requirement already satisfied: text-unidecode>=1.3 in /usr/local/lib/python3.10/dist-packages (from python-slugify->kaggle) (1.3)\n",
            "Requirement already satisfied: charset-normalizer<4,>=2 in /usr/local/lib/python3.10/dist-packages (from requests->kaggle) (3.3.2)\n",
            "Requirement already satisfied: idna<4,>=2.5 in /usr/local/lib/python3.10/dist-packages (from requests->kaggle) (3.6)\n"
          ]
        }
      ]
    },
    {
      "cell_type": "code",
      "source": [
        "import numpy as np\n",
        "import pandas as pd\n",
        "import os\n",
        "import cv2\n",
        "from tqdm.notebook import tqdm\n",
        "import matplotlib.pyplot as plt\n",
        "import seaborn as sns\n",
        "import warnings\n",
        "warnings.filterwarnings('ignore')\n",
        "import tensorflow as tf\n",
        "from keras.models import Sequential, Model\n",
        "from keras.layers import Dense, Conv2D, Dropout, Flatten, MaxPooling2D, Input, BatchNormalization\n",
        "from PIL import Image\n",
        "from keras.preprocessing.image import load_img, img_to_array\n",
        "import zipfile\n",
        "from keras.utils import to_categorical\n",
        "from tensorflow.keras.regularizers import l1_l2, l1, l2\n",
        "from tensorflow.keras.optimizers import Adam\n",
        "from tensorflow.keras.callbacks import ReduceLROnPlateau, EarlyStopping\n",
        "from tensorflow.keras.models import save_model, load_model\n",
        "from tensorflow.keras.preprocessing.image import ImageDataGenerator, img_to_array, array_to_img\n",
        "import shutil\n",
        "from imblearn.under_sampling import RandomUnderSampler\n",
        "import xml.etree.ElementTree as ET\n",
        "import pybboxes as pbx\n",
        "from collections import defaultdict\n",
        "from google.colab import files"
      ],
      "metadata": {
        "id": "CU3F_zwFhm6i"
      },
      "execution_count": 2,
      "outputs": []
    },
    {
      "cell_type": "code",
      "source": [
        "uploaded = files.upload()\n",
        "\n",
        "source_path = '/content/kaggle.json'\n",
        "destination_path = '/root/.kaggle/kaggle.json'\n",
        "kaggle_dir = '/root/.kaggle/'\n",
        "if not os.path.exists(kaggle_dir):\n",
        "    os.makedirs(kaggle_dir)\n",
        "os.rename(source_path, destination_path)"
      ],
      "metadata": {
        "colab": {
          "base_uri": "https://localhost:8080/",
          "height": 73
        },
        "id": "fgbKHWLghjgp",
        "outputId": "b207e86d-8798-478f-a204-b47751c05f44"
      },
      "execution_count": 7,
      "outputs": [
        {
          "output_type": "display_data",
          "data": {
            "text/plain": [
              "<IPython.core.display.HTML object>"
            ],
            "text/html": [
              "\n",
              "     <input type=\"file\" id=\"files-72148827-4337-472a-87c9-42125d3d4667\" name=\"files[]\" multiple disabled\n",
              "        style=\"border:none\" />\n",
              "     <output id=\"result-72148827-4337-472a-87c9-42125d3d4667\">\n",
              "      Upload widget is only available when the cell has been executed in the\n",
              "      current browser session. Please rerun this cell to enable.\n",
              "      </output>\n",
              "      <script>// Copyright 2017 Google LLC\n",
              "//\n",
              "// Licensed under the Apache License, Version 2.0 (the \"License\");\n",
              "// you may not use this file except in compliance with the License.\n",
              "// You may obtain a copy of the License at\n",
              "//\n",
              "//      http://www.apache.org/licenses/LICENSE-2.0\n",
              "//\n",
              "// Unless required by applicable law or agreed to in writing, software\n",
              "// distributed under the License is distributed on an \"AS IS\" BASIS,\n",
              "// WITHOUT WARRANTIES OR CONDITIONS OF ANY KIND, either express or implied.\n",
              "// See the License for the specific language governing permissions and\n",
              "// limitations under the License.\n",
              "\n",
              "/**\n",
              " * @fileoverview Helpers for google.colab Python module.\n",
              " */\n",
              "(function(scope) {\n",
              "function span(text, styleAttributes = {}) {\n",
              "  const element = document.createElement('span');\n",
              "  element.textContent = text;\n",
              "  for (const key of Object.keys(styleAttributes)) {\n",
              "    element.style[key] = styleAttributes[key];\n",
              "  }\n",
              "  return element;\n",
              "}\n",
              "\n",
              "// Max number of bytes which will be uploaded at a time.\n",
              "const MAX_PAYLOAD_SIZE = 100 * 1024;\n",
              "\n",
              "function _uploadFiles(inputId, outputId) {\n",
              "  const steps = uploadFilesStep(inputId, outputId);\n",
              "  const outputElement = document.getElementById(outputId);\n",
              "  // Cache steps on the outputElement to make it available for the next call\n",
              "  // to uploadFilesContinue from Python.\n",
              "  outputElement.steps = steps;\n",
              "\n",
              "  return _uploadFilesContinue(outputId);\n",
              "}\n",
              "\n",
              "// This is roughly an async generator (not supported in the browser yet),\n",
              "// where there are multiple asynchronous steps and the Python side is going\n",
              "// to poll for completion of each step.\n",
              "// This uses a Promise to block the python side on completion of each step,\n",
              "// then passes the result of the previous step as the input to the next step.\n",
              "function _uploadFilesContinue(outputId) {\n",
              "  const outputElement = document.getElementById(outputId);\n",
              "  const steps = outputElement.steps;\n",
              "\n",
              "  const next = steps.next(outputElement.lastPromiseValue);\n",
              "  return Promise.resolve(next.value.promise).then((value) => {\n",
              "    // Cache the last promise value to make it available to the next\n",
              "    // step of the generator.\n",
              "    outputElement.lastPromiseValue = value;\n",
              "    return next.value.response;\n",
              "  });\n",
              "}\n",
              "\n",
              "/**\n",
              " * Generator function which is called between each async step of the upload\n",
              " * process.\n",
              " * @param {string} inputId Element ID of the input file picker element.\n",
              " * @param {string} outputId Element ID of the output display.\n",
              " * @return {!Iterable<!Object>} Iterable of next steps.\n",
              " */\n",
              "function* uploadFilesStep(inputId, outputId) {\n",
              "  const inputElement = document.getElementById(inputId);\n",
              "  inputElement.disabled = false;\n",
              "\n",
              "  const outputElement = document.getElementById(outputId);\n",
              "  outputElement.innerHTML = '';\n",
              "\n",
              "  const pickedPromise = new Promise((resolve) => {\n",
              "    inputElement.addEventListener('change', (e) => {\n",
              "      resolve(e.target.files);\n",
              "    });\n",
              "  });\n",
              "\n",
              "  const cancel = document.createElement('button');\n",
              "  inputElement.parentElement.appendChild(cancel);\n",
              "  cancel.textContent = 'Cancel upload';\n",
              "  const cancelPromise = new Promise((resolve) => {\n",
              "    cancel.onclick = () => {\n",
              "      resolve(null);\n",
              "    };\n",
              "  });\n",
              "\n",
              "  // Wait for the user to pick the files.\n",
              "  const files = yield {\n",
              "    promise: Promise.race([pickedPromise, cancelPromise]),\n",
              "    response: {\n",
              "      action: 'starting',\n",
              "    }\n",
              "  };\n",
              "\n",
              "  cancel.remove();\n",
              "\n",
              "  // Disable the input element since further picks are not allowed.\n",
              "  inputElement.disabled = true;\n",
              "\n",
              "  if (!files) {\n",
              "    return {\n",
              "      response: {\n",
              "        action: 'complete',\n",
              "      }\n",
              "    };\n",
              "  }\n",
              "\n",
              "  for (const file of files) {\n",
              "    const li = document.createElement('li');\n",
              "    li.append(span(file.name, {fontWeight: 'bold'}));\n",
              "    li.append(span(\n",
              "        `(${file.type || 'n/a'}) - ${file.size} bytes, ` +\n",
              "        `last modified: ${\n",
              "            file.lastModifiedDate ? file.lastModifiedDate.toLocaleDateString() :\n",
              "                                    'n/a'} - `));\n",
              "    const percent = span('0% done');\n",
              "    li.appendChild(percent);\n",
              "\n",
              "    outputElement.appendChild(li);\n",
              "\n",
              "    const fileDataPromise = new Promise((resolve) => {\n",
              "      const reader = new FileReader();\n",
              "      reader.onload = (e) => {\n",
              "        resolve(e.target.result);\n",
              "      };\n",
              "      reader.readAsArrayBuffer(file);\n",
              "    });\n",
              "    // Wait for the data to be ready.\n",
              "    let fileData = yield {\n",
              "      promise: fileDataPromise,\n",
              "      response: {\n",
              "        action: 'continue',\n",
              "      }\n",
              "    };\n",
              "\n",
              "    // Use a chunked sending to avoid message size limits. See b/62115660.\n",
              "    let position = 0;\n",
              "    do {\n",
              "      const length = Math.min(fileData.byteLength - position, MAX_PAYLOAD_SIZE);\n",
              "      const chunk = new Uint8Array(fileData, position, length);\n",
              "      position += length;\n",
              "\n",
              "      const base64 = btoa(String.fromCharCode.apply(null, chunk));\n",
              "      yield {\n",
              "        response: {\n",
              "          action: 'append',\n",
              "          file: file.name,\n",
              "          data: base64,\n",
              "        },\n",
              "      };\n",
              "\n",
              "      let percentDone = fileData.byteLength === 0 ?\n",
              "          100 :\n",
              "          Math.round((position / fileData.byteLength) * 100);\n",
              "      percent.textContent = `${percentDone}% done`;\n",
              "\n",
              "    } while (position < fileData.byteLength);\n",
              "  }\n",
              "\n",
              "  // All done.\n",
              "  yield {\n",
              "    response: {\n",
              "      action: 'complete',\n",
              "    }\n",
              "  };\n",
              "}\n",
              "\n",
              "scope.google = scope.google || {};\n",
              "scope.google.colab = scope.google.colab || {};\n",
              "scope.google.colab._files = {\n",
              "  _uploadFiles,\n",
              "  _uploadFilesContinue,\n",
              "};\n",
              "})(self);\n",
              "</script> "
            ]
          },
          "metadata": {}
        },
        {
          "output_type": "stream",
          "name": "stdout",
          "text": [
            "Saving kaggle.json to kaggle.json\n"
          ]
        }
      ]
    },
    {
      "cell_type": "code",
      "source": [
        "! kaggle datasets download -d andrewmvd/road-sign-detection\n",
        "with zipfile.ZipFile('/content/road-sign-detection.zip', 'r') as zip_ref:\n",
        "  zip_ref.extractall('/content')"
      ],
      "metadata": {
        "colab": {
          "base_uri": "https://localhost:8080/"
        },
        "id": "_zNRlgwYhaej",
        "outputId": "c266c16e-59e0-40c7-e09e-4c2891690415"
      },
      "execution_count": 8,
      "outputs": [
        {
          "output_type": "stream",
          "name": "stdout",
          "text": [
            "Warning: Your Kaggle API key is readable by other users on this system! To fix this, you can run 'chmod 600 /root/.kaggle/kaggle.json'\n",
            "Downloading road-sign-detection.zip to /content\n",
            " 95% 208M/218M [00:02<00:00, 110MB/s] \n",
            "100% 218M/218M [00:02<00:00, 105MB/s]\n"
          ]
        }
      ]
    },
    {
      "cell_type": "code",
      "source": [
        "annotations_path = '/content/annotations'\n",
        "annotations = os.listdir(annotations_path)"
      ],
      "metadata": {
        "id": "dYHHPo77kMFB"
      },
      "execution_count": 9,
      "outputs": []
    },
    {
      "cell_type": "code",
      "source": [
        "img_name_list = []\n",
        "width_list = []\n",
        "height_list = []\n",
        "label_list = []\n",
        "xmin_list = []\n",
        "ymin_list = []\n",
        "xmax_list = []\n",
        "ymax_list = []\n",
        "bboxes = []\n",
        "\n",
        "for idx in tqdm(range(len(annotations))):\n",
        "\n",
        "    tree = ET.parse(os.path.join(annotations_path, annotations[idx]))\n",
        "    root = tree.getroot()\n",
        "\n",
        "    img_name = root.find('filename').text\n",
        "\n",
        "    size = root.find('size')\n",
        "    width = size.find('width').text\n",
        "    height = size.find('height').text\n",
        "\n",
        "    for group in root.findall('object'):\n",
        "        label = group.find('name').text\n",
        "        bbox = group.find('bndbox')\n",
        "        xmin = bbox.find('xmin').text\n",
        "        ymin = bbox.find('ymin').text\n",
        "        xmax = bbox.find('xmax').text\n",
        "        ymax = bbox.find('ymax').text\n",
        "\n",
        "        img_name_list.append(\"/content/images/\" + img_name)\n",
        "        width_list.append(width)\n",
        "        height_list.append(height)\n",
        "        xmin_list.append(xmin)\n",
        "        ymin_list.append(ymin)\n",
        "        xmax_list.append(xmax)\n",
        "        ymax_list.append(ymax)\n",
        "        label_list.append(label)\n",
        "        bboxes.append((xmin,ymin,xmax,ymax))"
      ],
      "metadata": {
        "colab": {
          "base_uri": "https://localhost:8080/",
          "height": 49,
          "referenced_widgets": [
            "2808a3a3807a4cd0bacb8caec383411e",
            "9aea2ab28bf44bffa6e169d772049bdc",
            "d1b061c8f0cc4fea84237ca0b8237fb6",
            "cb7fbf441be44b0b8cb1483860b0cae1",
            "eb510674cb224cc587527b01ba5e9161",
            "2520641c4bfc4c209835cd10eb33004c",
            "d739b2656f2f4006aba092ed45c3e446",
            "1a79115a8a3e4b5191150b3b08142f53",
            "01d61a1cefaf4be686a2ef42dfd461f3",
            "dcad2eefe7ca4c0d95995ae890f59b0b",
            "6823545bd25b408582dcbf4404a2673f"
          ]
        },
        "id": "LWl1vRoEi-sZ",
        "outputId": "7ed424c7-521c-4e04-fa8e-a38973f91a18"
      },
      "execution_count": 10,
      "outputs": [
        {
          "output_type": "display_data",
          "data": {
            "text/plain": [
              "  0%|          | 0/877 [00:00<?, ?it/s]"
            ],
            "application/vnd.jupyter.widget-view+json": {
              "version_major": 2,
              "version_minor": 0,
              "model_id": "2808a3a3807a4cd0bacb8caec383411e"
            }
          },
          "metadata": {}
        }
      ]
    },
    {
      "cell_type": "code",
      "source": [
        "df = pd.DataFrame({\n",
        "                        'image_path': img_name_list,\n",
        "                        'width': width_list,\n",
        "                        'height': height_list,\n",
        "                        'xmin': xmin_list,\n",
        "                        'ymin': ymin_list,\n",
        "                        'xmax': xmax_list,\n",
        "                        'ymax': ymax_list,\n",
        "                        'bboxes': bboxes,\n",
        "                        'class_label': label_list})\n",
        "\n",
        "classes = df['class_label'].unique().tolist()\n",
        "classes\n",
        "\n",
        "df['class_int'] = df['class_label'].apply(lambda x: classes.index(x))\n",
        "print(df.shape)\n",
        "df.head()"
      ],
      "metadata": {
        "colab": {
          "base_uri": "https://localhost:8080/",
          "height": 224
        },
        "id": "cDZEJB8njJvw",
        "outputId": "63fbd68d-9230-4967-a8d4-6b57765daca1"
      },
      "execution_count": 11,
      "outputs": [
        {
          "output_type": "stream",
          "name": "stdout",
          "text": [
            "(1244, 10)\n"
          ]
        },
        {
          "output_type": "execute_result",
          "data": {
            "text/plain": [
              "                    image_path width height xmin ymin xmax ymax  \\\n",
              "0  /content/images/road757.png   300    400  108  152  140  181   \n",
              "1  /content/images/road389.png   300    400  178  100  221  143   \n",
              "2  /content/images/road866.png   300    400   56  150  103  195   \n",
              "3  /content/images/road528.png   300    400   86  191  134  244   \n",
              "4  /content/images/road528.png   300    400    0    1  168   87   \n",
              "\n",
              "                 bboxes class_label  class_int  \n",
              "0  (108, 152, 140, 181)  speedlimit          0  \n",
              "1  (178, 100, 221, 143)  speedlimit          0  \n",
              "2   (56, 150, 103, 195)  speedlimit          0  \n",
              "3   (86, 191, 134, 244)  speedlimit          0  \n",
              "4       (0, 1, 168, 87)   crosswalk          1  "
            ],
            "text/html": [
              "\n",
              "  <div id=\"df-2cddf1fc-5344-4122-9dc0-f0da2be38740\" class=\"colab-df-container\">\n",
              "    <div>\n",
              "<style scoped>\n",
              "    .dataframe tbody tr th:only-of-type {\n",
              "        vertical-align: middle;\n",
              "    }\n",
              "\n",
              "    .dataframe tbody tr th {\n",
              "        vertical-align: top;\n",
              "    }\n",
              "\n",
              "    .dataframe thead th {\n",
              "        text-align: right;\n",
              "    }\n",
              "</style>\n",
              "<table border=\"1\" class=\"dataframe\">\n",
              "  <thead>\n",
              "    <tr style=\"text-align: right;\">\n",
              "      <th></th>\n",
              "      <th>image_path</th>\n",
              "      <th>width</th>\n",
              "      <th>height</th>\n",
              "      <th>xmin</th>\n",
              "      <th>ymin</th>\n",
              "      <th>xmax</th>\n",
              "      <th>ymax</th>\n",
              "      <th>bboxes</th>\n",
              "      <th>class_label</th>\n",
              "      <th>class_int</th>\n",
              "    </tr>\n",
              "  </thead>\n",
              "  <tbody>\n",
              "    <tr>\n",
              "      <th>0</th>\n",
              "      <td>/content/images/road757.png</td>\n",
              "      <td>300</td>\n",
              "      <td>400</td>\n",
              "      <td>108</td>\n",
              "      <td>152</td>\n",
              "      <td>140</td>\n",
              "      <td>181</td>\n",
              "      <td>(108, 152, 140, 181)</td>\n",
              "      <td>speedlimit</td>\n",
              "      <td>0</td>\n",
              "    </tr>\n",
              "    <tr>\n",
              "      <th>1</th>\n",
              "      <td>/content/images/road389.png</td>\n",
              "      <td>300</td>\n",
              "      <td>400</td>\n",
              "      <td>178</td>\n",
              "      <td>100</td>\n",
              "      <td>221</td>\n",
              "      <td>143</td>\n",
              "      <td>(178, 100, 221, 143)</td>\n",
              "      <td>speedlimit</td>\n",
              "      <td>0</td>\n",
              "    </tr>\n",
              "    <tr>\n",
              "      <th>2</th>\n",
              "      <td>/content/images/road866.png</td>\n",
              "      <td>300</td>\n",
              "      <td>400</td>\n",
              "      <td>56</td>\n",
              "      <td>150</td>\n",
              "      <td>103</td>\n",
              "      <td>195</td>\n",
              "      <td>(56, 150, 103, 195)</td>\n",
              "      <td>speedlimit</td>\n",
              "      <td>0</td>\n",
              "    </tr>\n",
              "    <tr>\n",
              "      <th>3</th>\n",
              "      <td>/content/images/road528.png</td>\n",
              "      <td>300</td>\n",
              "      <td>400</td>\n",
              "      <td>86</td>\n",
              "      <td>191</td>\n",
              "      <td>134</td>\n",
              "      <td>244</td>\n",
              "      <td>(86, 191, 134, 244)</td>\n",
              "      <td>speedlimit</td>\n",
              "      <td>0</td>\n",
              "    </tr>\n",
              "    <tr>\n",
              "      <th>4</th>\n",
              "      <td>/content/images/road528.png</td>\n",
              "      <td>300</td>\n",
              "      <td>400</td>\n",
              "      <td>0</td>\n",
              "      <td>1</td>\n",
              "      <td>168</td>\n",
              "      <td>87</td>\n",
              "      <td>(0, 1, 168, 87)</td>\n",
              "      <td>crosswalk</td>\n",
              "      <td>1</td>\n",
              "    </tr>\n",
              "  </tbody>\n",
              "</table>\n",
              "</div>\n",
              "    <div class=\"colab-df-buttons\">\n",
              "\n",
              "  <div class=\"colab-df-container\">\n",
              "    <button class=\"colab-df-convert\" onclick=\"convertToInteractive('df-2cddf1fc-5344-4122-9dc0-f0da2be38740')\"\n",
              "            title=\"Convert this dataframe to an interactive table.\"\n",
              "            style=\"display:none;\">\n",
              "\n",
              "  <svg xmlns=\"http://www.w3.org/2000/svg\" height=\"24px\" viewBox=\"0 -960 960 960\">\n",
              "    <path d=\"M120-120v-720h720v720H120Zm60-500h600v-160H180v160Zm220 220h160v-160H400v160Zm0 220h160v-160H400v160ZM180-400h160v-160H180v160Zm440 0h160v-160H620v160ZM180-180h160v-160H180v160Zm440 0h160v-160H620v160Z\"/>\n",
              "  </svg>\n",
              "    </button>\n",
              "\n",
              "  <style>\n",
              "    .colab-df-container {\n",
              "      display:flex;\n",
              "      gap: 12px;\n",
              "    }\n",
              "\n",
              "    .colab-df-convert {\n",
              "      background-color: #E8F0FE;\n",
              "      border: none;\n",
              "      border-radius: 50%;\n",
              "      cursor: pointer;\n",
              "      display: none;\n",
              "      fill: #1967D2;\n",
              "      height: 32px;\n",
              "      padding: 0 0 0 0;\n",
              "      width: 32px;\n",
              "    }\n",
              "\n",
              "    .colab-df-convert:hover {\n",
              "      background-color: #E2EBFA;\n",
              "      box-shadow: 0px 1px 2px rgba(60, 64, 67, 0.3), 0px 1px 3px 1px rgba(60, 64, 67, 0.15);\n",
              "      fill: #174EA6;\n",
              "    }\n",
              "\n",
              "    .colab-df-buttons div {\n",
              "      margin-bottom: 4px;\n",
              "    }\n",
              "\n",
              "    [theme=dark] .colab-df-convert {\n",
              "      background-color: #3B4455;\n",
              "      fill: #D2E3FC;\n",
              "    }\n",
              "\n",
              "    [theme=dark] .colab-df-convert:hover {\n",
              "      background-color: #434B5C;\n",
              "      box-shadow: 0px 1px 3px 1px rgba(0, 0, 0, 0.15);\n",
              "      filter: drop-shadow(0px 1px 2px rgba(0, 0, 0, 0.3));\n",
              "      fill: #FFFFFF;\n",
              "    }\n",
              "  </style>\n",
              "\n",
              "    <script>\n",
              "      const buttonEl =\n",
              "        document.querySelector('#df-2cddf1fc-5344-4122-9dc0-f0da2be38740 button.colab-df-convert');\n",
              "      buttonEl.style.display =\n",
              "        google.colab.kernel.accessAllowed ? 'block' : 'none';\n",
              "\n",
              "      async function convertToInteractive(key) {\n",
              "        const element = document.querySelector('#df-2cddf1fc-5344-4122-9dc0-f0da2be38740');\n",
              "        const dataTable =\n",
              "          await google.colab.kernel.invokeFunction('convertToInteractive',\n",
              "                                                    [key], {});\n",
              "        if (!dataTable) return;\n",
              "\n",
              "        const docLinkHtml = 'Like what you see? Visit the ' +\n",
              "          '<a target=\"_blank\" href=https://colab.research.google.com/notebooks/data_table.ipynb>data table notebook</a>'\n",
              "          + ' to learn more about interactive tables.';\n",
              "        element.innerHTML = '';\n",
              "        dataTable['output_type'] = 'display_data';\n",
              "        await google.colab.output.renderOutput(dataTable, element);\n",
              "        const docLink = document.createElement('div');\n",
              "        docLink.innerHTML = docLinkHtml;\n",
              "        element.appendChild(docLink);\n",
              "      }\n",
              "    </script>\n",
              "  </div>\n",
              "\n",
              "\n",
              "<div id=\"df-62b76cb8-10d6-4d32-bc1b-e3669be24f21\">\n",
              "  <button class=\"colab-df-quickchart\" onclick=\"quickchart('df-62b76cb8-10d6-4d32-bc1b-e3669be24f21')\"\n",
              "            title=\"Suggest charts\"\n",
              "            style=\"display:none;\">\n",
              "\n",
              "<svg xmlns=\"http://www.w3.org/2000/svg\" height=\"24px\"viewBox=\"0 0 24 24\"\n",
              "     width=\"24px\">\n",
              "    <g>\n",
              "        <path d=\"M19 3H5c-1.1 0-2 .9-2 2v14c0 1.1.9 2 2 2h14c1.1 0 2-.9 2-2V5c0-1.1-.9-2-2-2zM9 17H7v-7h2v7zm4 0h-2V7h2v10zm4 0h-2v-4h2v4z\"/>\n",
              "    </g>\n",
              "</svg>\n",
              "  </button>\n",
              "\n",
              "<style>\n",
              "  .colab-df-quickchart {\n",
              "      --bg-color: #E8F0FE;\n",
              "      --fill-color: #1967D2;\n",
              "      --hover-bg-color: #E2EBFA;\n",
              "      --hover-fill-color: #174EA6;\n",
              "      --disabled-fill-color: #AAA;\n",
              "      --disabled-bg-color: #DDD;\n",
              "  }\n",
              "\n",
              "  [theme=dark] .colab-df-quickchart {\n",
              "      --bg-color: #3B4455;\n",
              "      --fill-color: #D2E3FC;\n",
              "      --hover-bg-color: #434B5C;\n",
              "      --hover-fill-color: #FFFFFF;\n",
              "      --disabled-bg-color: #3B4455;\n",
              "      --disabled-fill-color: #666;\n",
              "  }\n",
              "\n",
              "  .colab-df-quickchart {\n",
              "    background-color: var(--bg-color);\n",
              "    border: none;\n",
              "    border-radius: 50%;\n",
              "    cursor: pointer;\n",
              "    display: none;\n",
              "    fill: var(--fill-color);\n",
              "    height: 32px;\n",
              "    padding: 0;\n",
              "    width: 32px;\n",
              "  }\n",
              "\n",
              "  .colab-df-quickchart:hover {\n",
              "    background-color: var(--hover-bg-color);\n",
              "    box-shadow: 0 1px 2px rgba(60, 64, 67, 0.3), 0 1px 3px 1px rgba(60, 64, 67, 0.15);\n",
              "    fill: var(--button-hover-fill-color);\n",
              "  }\n",
              "\n",
              "  .colab-df-quickchart-complete:disabled,\n",
              "  .colab-df-quickchart-complete:disabled:hover {\n",
              "    background-color: var(--disabled-bg-color);\n",
              "    fill: var(--disabled-fill-color);\n",
              "    box-shadow: none;\n",
              "  }\n",
              "\n",
              "  .colab-df-spinner {\n",
              "    border: 2px solid var(--fill-color);\n",
              "    border-color: transparent;\n",
              "    border-bottom-color: var(--fill-color);\n",
              "    animation:\n",
              "      spin 1s steps(1) infinite;\n",
              "  }\n",
              "\n",
              "  @keyframes spin {\n",
              "    0% {\n",
              "      border-color: transparent;\n",
              "      border-bottom-color: var(--fill-color);\n",
              "      border-left-color: var(--fill-color);\n",
              "    }\n",
              "    20% {\n",
              "      border-color: transparent;\n",
              "      border-left-color: var(--fill-color);\n",
              "      border-top-color: var(--fill-color);\n",
              "    }\n",
              "    30% {\n",
              "      border-color: transparent;\n",
              "      border-left-color: var(--fill-color);\n",
              "      border-top-color: var(--fill-color);\n",
              "      border-right-color: var(--fill-color);\n",
              "    }\n",
              "    40% {\n",
              "      border-color: transparent;\n",
              "      border-right-color: var(--fill-color);\n",
              "      border-top-color: var(--fill-color);\n",
              "    }\n",
              "    60% {\n",
              "      border-color: transparent;\n",
              "      border-right-color: var(--fill-color);\n",
              "    }\n",
              "    80% {\n",
              "      border-color: transparent;\n",
              "      border-right-color: var(--fill-color);\n",
              "      border-bottom-color: var(--fill-color);\n",
              "    }\n",
              "    90% {\n",
              "      border-color: transparent;\n",
              "      border-bottom-color: var(--fill-color);\n",
              "    }\n",
              "  }\n",
              "</style>\n",
              "\n",
              "  <script>\n",
              "    async function quickchart(key) {\n",
              "      const quickchartButtonEl =\n",
              "        document.querySelector('#' + key + ' button');\n",
              "      quickchartButtonEl.disabled = true;  // To prevent multiple clicks.\n",
              "      quickchartButtonEl.classList.add('colab-df-spinner');\n",
              "      try {\n",
              "        const charts = await google.colab.kernel.invokeFunction(\n",
              "            'suggestCharts', [key], {});\n",
              "      } catch (error) {\n",
              "        console.error('Error during call to suggestCharts:', error);\n",
              "      }\n",
              "      quickchartButtonEl.classList.remove('colab-df-spinner');\n",
              "      quickchartButtonEl.classList.add('colab-df-quickchart-complete');\n",
              "    }\n",
              "    (() => {\n",
              "      let quickchartButtonEl =\n",
              "        document.querySelector('#df-62b76cb8-10d6-4d32-bc1b-e3669be24f21 button');\n",
              "      quickchartButtonEl.style.display =\n",
              "        google.colab.kernel.accessAllowed ? 'block' : 'none';\n",
              "    })();\n",
              "  </script>\n",
              "</div>\n",
              "    </div>\n",
              "  </div>\n"
            ],
            "application/vnd.google.colaboratory.intrinsic+json": {
              "type": "dataframe",
              "variable_name": "df",
              "summary": "{\n  \"name\": \"df\",\n  \"rows\": 1244,\n  \"fields\": [\n    {\n      \"column\": \"image_path\",\n      \"properties\": {\n        \"dtype\": \"string\",\n        \"num_unique_values\": 877,\n        \"samples\": [\n          \"/content/images/road863.png\",\n          \"/content/images/road405.png\",\n          \"/content/images/road830.png\"\n        ],\n        \"semantic_type\": \"\",\n        \"description\": \"\"\n      }\n    },\n    {\n      \"column\": \"width\",\n      \"properties\": {\n        \"dtype\": \"category\",\n        \"num_unique_values\": 11,\n        \"samples\": [\n          \"306\",\n          \"300\",\n          \"395\"\n        ],\n        \"semantic_type\": \"\",\n        \"description\": \"\"\n      }\n    },\n    {\n      \"column\": \"height\",\n      \"properties\": {\n        \"dtype\": \"category\",\n        \"num_unique_values\": 36,\n        \"samples\": [\n          \"284\",\n          \"273\",\n          \"247\"\n        ],\n        \"semantic_type\": \"\",\n        \"description\": \"\"\n      }\n    },\n    {\n      \"column\": \"xmin\",\n      \"properties\": {\n        \"dtype\": \"category\",\n        \"num_unique_values\": 246,\n        \"samples\": [\n          \"165\",\n          \"85\",\n          \"45\"\n        ],\n        \"semantic_type\": \"\",\n        \"description\": \"\"\n      }\n    },\n    {\n      \"column\": \"ymin\",\n      \"properties\": {\n        \"dtype\": \"category\",\n        \"num_unique_values\": 327,\n        \"samples\": [\n          \"300\",\n          \"185\",\n          \"186\"\n        ],\n        \"semantic_type\": \"\",\n        \"description\": \"\"\n      }\n    },\n    {\n      \"column\": \"xmax\",\n      \"properties\": {\n        \"dtype\": \"category\",\n        \"num_unique_values\": 280,\n        \"samples\": [\n          \"94\",\n          \"235\",\n          \"36\"\n        ],\n        \"semantic_type\": \"\",\n        \"description\": \"\"\n      }\n    },\n    {\n      \"column\": \"ymax\",\n      \"properties\": {\n        \"dtype\": \"category\",\n        \"num_unique_values\": 287,\n        \"samples\": [\n          \"363\",\n          \"160\",\n          \"207\"\n        ],\n        \"semantic_type\": \"\",\n        \"description\": \"\"\n      }\n    },\n    {\n      \"column\": \"bboxes\",\n      \"properties\": {\n        \"dtype\": \"string\",\n        \"num_unique_values\": 1243,\n        \"samples\": [\n          [\n            \"104\",\n            \"222\",\n            \"149\",\n            \"267\"\n          ],\n          [\n            \"92\",\n            \"194\",\n            \"124\",\n            \"226\"\n          ],\n          [\n            \"111\",\n            \"210\",\n            \"170\",\n            \"269\"\n          ]\n        ],\n        \"semantic_type\": \"\",\n        \"description\": \"\"\n      }\n    },\n    {\n      \"column\": \"class_label\",\n      \"properties\": {\n        \"dtype\": \"category\",\n        \"num_unique_values\": 4,\n        \"samples\": [\n          \"crosswalk\",\n          \"stop\",\n          \"speedlimit\"\n        ],\n        \"semantic_type\": \"\",\n        \"description\": \"\"\n      }\n    },\n    {\n      \"column\": \"class_int\",\n      \"properties\": {\n        \"dtype\": \"number\",\n        \"std\": 0,\n        \"min\": 0,\n        \"max\": 3,\n        \"num_unique_values\": 4,\n        \"samples\": [\n          1,\n          3,\n          0\n        ],\n        \"semantic_type\": \"\",\n        \"description\": \"\"\n      }\n    }\n  ]\n}"
            }
          },
          "metadata": {},
          "execution_count": 11
        }
      ]
    },
    {
      "cell_type": "code",
      "source": [
        "from sklearn.preprocessing import LabelBinarizer\n",
        "\n",
        "width = 224\n",
        "height = 224\n",
        "og_height = 400\n",
        "og_width = 300\n",
        "\n",
        "width_scale = width / og_width\n",
        "height_scale = height / og_height\n",
        "\n",
        "lb = LabelBinarizer()\n",
        "\n",
        "images_array = []\n",
        "\n",
        "image_paths = np.array(df['image_path'])\n",
        "\n",
        "for image_path in image_paths:\n",
        "    image = load_img(image_path, target_size=(height, width))\n",
        "    image = img_to_array(image)\n",
        "    images_array.append(np.array(image) / 255)\n",
        "\n",
        "class_label_array = np.array(df['class_int'])\n",
        "class_label_array = lb.fit_transform(class_label_array)\n",
        "\n",
        "bbox_array = np.array(df['bboxes'])\n",
        "bbox_array = np.array([list(map(float, box)) for box in bbox_array])\n",
        "for bbox in bbox_array:\n",
        "    bbox[0] *= width_scale\n",
        "    bbox[1] *= height_scale\n",
        "    bbox[2] *= width_scale\n",
        "    bbox[3] *= height_scale\n",
        "\n",
        "images_array, class_label_array, bbox_array, removed_indices = remove_images_with_zero_dimensions(images_array, class_label_array, bbox_array)"
      ],
      "metadata": {
        "id": "2eJ9ikgjne2E"
      },
      "execution_count": 12,
      "outputs": []
    },
    {
      "cell_type": "code",
      "source": [
        "first_image = images_array[0]\n",
        "print(type(first_image))\n",
        "print(first_image.shape)"
      ],
      "metadata": {
        "id": "iXMeHiBaELXF",
        "outputId": "f427b604-f296-492d-dd0a-bb2d8e34798c",
        "colab": {
          "base_uri": "https://localhost:8080/"
        }
      },
      "execution_count": null,
      "outputs": [
        {
          "output_type": "stream",
          "name": "stdout",
          "text": [
            "<class 'numpy.ndarray'>\n",
            "(224, 224, 3)\n"
          ]
        }
      ]
    },
    {
      "cell_type": "code",
      "source": [
        "print(len(images_array))\n",
        "print(len(class_label_array))\n",
        "print(len(bbox_array))"
      ],
      "metadata": {
        "id": "YxuQf07jnmiu",
        "outputId": "a8ace44d-d184-454f-dd39-e67359c065e0",
        "colab": {
          "base_uri": "https://localhost:8080/"
        }
      },
      "execution_count": null,
      "outputs": [
        {
          "output_type": "stream",
          "name": "stdout",
          "text": [
            "1244\n",
            "1244\n",
            "1244\n"
          ]
        }
      ]
    },
    {
      "cell_type": "code",
      "source": [
        "images_array.shape"
      ],
      "metadata": {
        "id": "8RjrjgUWFKdz",
        "outputId": "ff4a6e70-6c1e-4806-db47-e0b268dc632b",
        "colab": {
          "base_uri": "https://localhost:8080/"
        }
      },
      "execution_count": null,
      "outputs": [
        {
          "output_type": "execute_result",
          "data": {
            "text/plain": [
              "(1244, 224, 224, 3)"
            ]
          },
          "metadata": {},
          "execution_count": 88
        }
      ]
    },
    {
      "cell_type": "code",
      "source": [
        "class_label_array.shape"
      ],
      "metadata": {
        "id": "FjBnh5AaFNMN",
        "outputId": "1f78ddbf-c241-4a08-a4f8-b4288911cfa7",
        "colab": {
          "base_uri": "https://localhost:8080/"
        }
      },
      "execution_count": null,
      "outputs": [
        {
          "output_type": "execute_result",
          "data": {
            "text/plain": [
              "(1244, 4)"
            ]
          },
          "metadata": {},
          "execution_count": 89
        }
      ]
    },
    {
      "cell_type": "code",
      "source": [
        "bbox_array.shape"
      ],
      "metadata": {
        "id": "MyCNEvXXFP6f",
        "outputId": "1a12085d-376a-44ff-8b78-a489b3ec9923",
        "colab": {
          "base_uri": "https://localhost:8080/"
        }
      },
      "execution_count": null,
      "outputs": [
        {
          "output_type": "execute_result",
          "data": {
            "text/plain": [
              "(1244, 4)"
            ]
          },
          "metadata": {},
          "execution_count": 90
        }
      ]
    },
    {
      "cell_type": "code",
      "source": [
        "from sklearn.model_selection import train_test_split\n",
        "\n",
        "trainImages, testImages, trainLabels, testLabels, trainBBoxes, testBBoxes, trainPaths, testPaths = train_test_split(\n",
        "                         images_array,\n",
        "                         class_label_array,\n",
        "                         bbox_array,\n",
        "                         image_paths,\n",
        "                         test_size=0.2,\n",
        "                         random_state=42)\n"
      ],
      "metadata": {
        "id": "vxXN7vZ2rN5u"
      },
      "execution_count": 13,
      "outputs": []
    },
    {
      "cell_type": "code",
      "source": [
        "first_image = trainImages[0]\n",
        "print(type(first_image))\n",
        "print(first_image.shape)"
      ],
      "metadata": {
        "id": "WufBWZmWETsT",
        "outputId": "b7b2c3f7-e1bd-4474-d738-20007b674bdf",
        "colab": {
          "base_uri": "https://localhost:8080/"
        }
      },
      "execution_count": null,
      "outputs": [
        {
          "output_type": "stream",
          "name": "stdout",
          "text": [
            "<class 'numpy.ndarray'>\n",
            "(224, 224, 3)\n"
          ]
        }
      ]
    },
    {
      "cell_type": "code",
      "source": [
        "from tensorflow.keras.applications import VGG16\n",
        "\n",
        "vgg = VGG16(weights=\"imagenet\",\n",
        "            include_top=False,\n",
        "            input_tensor=Input(shape=(224, 224, 3)))\n",
        "\n",
        "vgg.trainable = False\n",
        "\n",
        "flatten = vgg.output\n",
        "flatten = Flatten()(flatten)"
      ],
      "metadata": {
        "id": "1FFl28cSoh-R"
      },
      "execution_count": null,
      "outputs": []
    },
    {
      "cell_type": "code",
      "source": [
        "from tensorflow.keras.applications import ResNet50\n",
        "from tensorflow.keras.layers import Flatten, Input\n",
        "\n",
        "resnet = ResNet50(weights=\"imagenet\",\n",
        "                  include_top=False,\n",
        "                  input_tensor=Input(shape=(224, 224, 3)))\n",
        "resnet.trainable = False\n",
        "flatten = resnet.output\n",
        "flatten = Flatten()(flatten)"
      ],
      "metadata": {
        "id": "WuAuoaSRwxDs",
        "outputId": "e27586ad-ff4a-49cc-ae53-519333692135",
        "colab": {
          "base_uri": "https://localhost:8080/"
        }
      },
      "execution_count": 14,
      "outputs": [
        {
          "output_type": "stream",
          "name": "stdout",
          "text": [
            "Downloading data from https://storage.googleapis.com/tensorflow/keras-applications/resnet/resnet50_weights_tf_dim_ordering_tf_kernels_notop.h5\n",
            "94765736/94765736 [==============================] - 1s 0us/step\n"
          ]
        }
      ]
    },
    {
      "cell_type": "code",
      "source": [
        "from tensorflow.keras.applications import InceptionV3\n",
        "from tensorflow.keras.layers import Flatten, Input\n",
        "\n",
        "inception = InceptionV3(weights=\"imagenet\",\n",
        "                        include_top=False,\n",
        "                        input_tensor=Input(shape=(224, 224, 3)))\n",
        "inception.trainable = False\n",
        "flatten = inception.output\n",
        "flatten = Flatten()(flatten)"
      ],
      "metadata": {
        "id": "xcmHFfhcx8pv"
      },
      "execution_count": null,
      "outputs": []
    },
    {
      "cell_type": "code",
      "source": [
        "from tensorflow.keras.applications import EfficientNetB0\n",
        "from tensorflow.keras.layers import Flatten, Input\n",
        "\n",
        "efficientnet = EfficientNetB0(weights=\"imagenet\",\n",
        "                              include_top=False,\n",
        "                              input_tensor=Input(shape=(224, 224, 3)))\n",
        "efficientnet.trainable = False\n",
        "flatten = efficientnet.output\n",
        "flatten = Flatten()(flatten)"
      ],
      "metadata": {
        "id": "sjrohyvT0ZkX",
        "outputId": "475beb7d-61b6-4b4b-b330-be6b2276f0f2",
        "colab": {
          "base_uri": "https://localhost:8080/"
        }
      },
      "execution_count": null,
      "outputs": [
        {
          "output_type": "stream",
          "name": "stdout",
          "text": [
            "Downloading data from https://storage.googleapis.com/keras-applications/efficientnetb0_notop.h5\n",
            "16705208/16705208 [==============================] - 0s 0us/step\n"
          ]
        }
      ]
    },
    {
      "cell_type": "code",
      "source": [
        "features = extract_features_erosion_dilatation(trainImages,height,width)"
      ],
      "metadata": {
        "colab": {
          "base_uri": "https://localhost:8080/",
          "height": 49,
          "referenced_widgets": [
            "de4992b3ebbc47eb8b32262035d09724",
            "e26f4ba093f346538f0edf99373c2134",
            "3d644412a71646e196ed3261f3d6941e",
            "b8132e0847aa4b858d8ae2d98d652396",
            "c42cc254b51c4e7b93f1ad9527b68643",
            "b3c8c07acbff4fbb9e4dab8f442dac74",
            "b27800b9a87942b1bbecfcd465a1b9b1",
            "eff4946c2e39429f93fe6cec459369c8",
            "fb7901bbe976437696e82f3172f4a9b5",
            "79e4a181f74c4a7280bbe8b112f97fe3",
            "8e778743d7d146dab7067bd417e0c275"
          ]
        },
        "id": "vxWhWoiC1CGu",
        "outputId": "902cdead-ef1b-421c-dfd6-ee0568dddf2e"
      },
      "execution_count": 50,
      "outputs": [
        {
          "output_type": "display_data",
          "data": {
            "text/plain": [
              "  0%|          | 0/995 [00:00<?, ?it/s]"
            ],
            "application/vnd.jupyter.widget-view+json": {
              "version_major": 2,
              "version_minor": 0,
              "model_id": "de4992b3ebbc47eb8b32262035d09724"
            }
          },
          "metadata": {}
        }
      ]
    },
    {
      "cell_type": "code",
      "source": [
        "from tensorflow.keras import regularizers\n",
        "\n",
        "bboxHead = Dense(512, activation=\"relu\", kernel_regularizer=regularizers.l2(0.01))(flatten)\n",
        "bboxHead = Dropout(0.3)(bboxHead)\n",
        "bboxHead = Dense(512, activation=\"relu\", kernel_regularizer=regularizers.l2(0.01))(bboxHead)\n",
        "bboxHead = Dropout(0.3)(bboxHead)\n",
        "bboxHead = Dense(512, activation=\"relu\", kernel_regularizer=regularizers.l2(0.01))(bboxHead)\n",
        "bboxHead = Dropout(0.3)(bboxHead)\n",
        "bboxHead = Dense(512, activation=\"relu\", kernel_regularizer=regularizers.l2(0.01))(bboxHead)\n",
        "bboxHead = Dense(4, activation=\"linear\")(bboxHead)"
      ],
      "metadata": {
        "id": "EPTImRH_oitJ"
      },
      "execution_count": null,
      "outputs": []
    },
    {
      "cell_type": "code",
      "source": [
        "bboxmodel = Model(\n",
        "    inputs=resnet.input,\n",
        "    outputs=bboxHead)"
      ],
      "metadata": {
        "id": "v3e2m03lorx_"
      },
      "execution_count": null,
      "outputs": []
    },
    {
      "cell_type": "code",
      "source": [
        "bboxmodel.summary()"
      ],
      "metadata": {
        "id": "AHk_ksLhsEiR"
      },
      "execution_count": null,
      "outputs": []
    },
    {
      "cell_type": "code",
      "source": [
        "from tensorflow.keras.callbacks import ReduceLROnPlateau, EarlyStopping\n",
        "\n",
        "INIT_LR = 0.0001\n",
        "NUM_EPOCHS = 100\n",
        "BATCH_SIZE = 16\n",
        "\n",
        "early_stopping = EarlyStopping(monitor='val_loss', patience=10, restore_best_weights=True)\n",
        "\n",
        "lr = ReduceLROnPlateau(factor=0.25, patience=3)"
      ],
      "metadata": {
        "id": "HIDS9HPMo3hZ"
      },
      "execution_count": null,
      "outputs": []
    },
    {
      "cell_type": "code",
      "source": [
        "opt = Adam(INIT_LR)\n",
        "\n",
        "bboxmodel.compile(loss=\"mean_absolute_error\",\n",
        "              optimizer=opt,\n",
        "              metrics=[\"accuracy\"])"
      ],
      "metadata": {
        "id": "rkkwoS60o7hj"
      },
      "execution_count": null,
      "outputs": []
    },
    {
      "cell_type": "code",
      "source": [
        "history = bboxmodel.fit(\n",
        "    features, trainBBoxes,\n",
        "    validation_split=0.2,\n",
        "    batch_size=BATCH_SIZE,\n",
        "    epochs=NUM_EPOCHS,\n",
        "    callbacks=[early_stopping,lr],\n",
        "    verbose=1)"
      ],
      "metadata": {
        "colab": {
          "base_uri": "https://localhost:8080/"
        },
        "id": "EEG7E9yKo93n",
        "outputId": "efdae763-1fa2-477e-b393-55b81c6b2ef3"
      },
      "execution_count": null,
      "outputs": [
        {
          "output_type": "stream",
          "name": "stdout",
          "text": [
            "Epoch 1/100\n",
            "50/50 [==============================] - 12s 139ms/step - loss: 75.8078 - accuracy: 0.4899 - val_loss: 45.3008 - val_accuracy: 0.5276 - lr: 1.0000e-04\n",
            "Epoch 2/100\n",
            "50/50 [==============================] - 5s 108ms/step - loss: 49.0007 - accuracy: 0.4824 - val_loss: 43.8903 - val_accuracy: 0.5176 - lr: 1.0000e-04\n",
            "Epoch 3/100\n",
            "50/50 [==============================] - 5s 97ms/step - loss: 47.6451 - accuracy: 0.4849 - val_loss: 44.1929 - val_accuracy: 0.4724 - lr: 1.0000e-04\n",
            "Epoch 4/100\n",
            "50/50 [==============================] - 5s 108ms/step - loss: 46.3465 - accuracy: 0.5101 - val_loss: 42.9563 - val_accuracy: 0.4724 - lr: 1.0000e-04\n",
            "Epoch 5/100\n",
            "50/50 [==============================] - 5s 97ms/step - loss: 45.8086 - accuracy: 0.5075 - val_loss: 43.5023 - val_accuracy: 0.4724 - lr: 1.0000e-04\n",
            "Epoch 6/100\n",
            "50/50 [==============================] - 5s 97ms/step - loss: 45.1261 - accuracy: 0.4950 - val_loss: 45.5872 - val_accuracy: 0.4724 - lr: 1.0000e-04\n",
            "Epoch 7/100\n",
            "50/50 [==============================] - 5s 107ms/step - loss: 45.1651 - accuracy: 0.5063 - val_loss: 42.3417 - val_accuracy: 0.4724 - lr: 1.0000e-04\n",
            "Epoch 8/100\n",
            "50/50 [==============================] - 4s 84ms/step - loss: 43.9446 - accuracy: 0.4887 - val_loss: 46.0311 - val_accuracy: 0.5226 - lr: 1.0000e-04\n",
            "Epoch 9/100\n",
            "50/50 [==============================] - 5s 107ms/step - loss: 43.9568 - accuracy: 0.5176 - val_loss: 40.0579 - val_accuracy: 0.4724 - lr: 1.0000e-04\n",
            "Epoch 10/100\n",
            "50/50 [==============================] - 5s 97ms/step - loss: 43.5374 - accuracy: 0.5075 - val_loss: 42.7932 - val_accuracy: 0.4724 - lr: 1.0000e-04\n",
            "Epoch 11/100\n",
            "50/50 [==============================] - 5s 99ms/step - loss: 42.6135 - accuracy: 0.4962 - val_loss: 42.2219 - val_accuracy: 0.5678 - lr: 1.0000e-04\n",
            "Epoch 12/100\n",
            "50/50 [==============================] - 5s 100ms/step - loss: 42.2804 - accuracy: 0.5126 - val_loss: 43.1533 - val_accuracy: 0.5176 - lr: 1.0000e-04\n",
            "Epoch 13/100\n",
            "50/50 [==============================] - 4s 87ms/step - loss: 41.5983 - accuracy: 0.5427 - val_loss: 42.2588 - val_accuracy: 0.4724 - lr: 2.5000e-05\n",
            "Epoch 14/100\n",
            "50/50 [==============================] - 5s 92ms/step - loss: 41.9191 - accuracy: 0.5440 - val_loss: 39.8850 - val_accuracy: 0.5528 - lr: 2.5000e-05\n",
            "Epoch 15/100\n",
            "50/50 [==============================] - 5s 98ms/step - loss: 41.2526 - accuracy: 0.5126 - val_loss: 40.4284 - val_accuracy: 0.5879 - lr: 2.5000e-05\n",
            "Epoch 16/100\n",
            "50/50 [==============================] - 5s 96ms/step - loss: 41.6871 - accuracy: 0.4962 - val_loss: 40.3930 - val_accuracy: 0.5528 - lr: 2.5000e-05\n",
            "Epoch 17/100\n",
            "50/50 [==============================] - 4s 86ms/step - loss: 41.1971 - accuracy: 0.5389 - val_loss: 40.4510 - val_accuracy: 0.5779 - lr: 2.5000e-05\n",
            "Epoch 18/100\n",
            "50/50 [==============================] - 4s 83ms/step - loss: 40.8987 - accuracy: 0.5389 - val_loss: 41.0484 - val_accuracy: 0.5678 - lr: 6.2500e-06\n",
            "Epoch 19/100\n",
            "50/50 [==============================] - 4s 84ms/step - loss: 41.0354 - accuracy: 0.5289 - val_loss: 40.5798 - val_accuracy: 0.5930 - lr: 6.2500e-06\n",
            "Epoch 20/100\n",
            "50/50 [==============================] - 5s 107ms/step - loss: 40.8893 - accuracy: 0.5126 - val_loss: 39.2775 - val_accuracy: 0.5930 - lr: 6.2500e-06\n",
            "Epoch 21/100\n",
            "50/50 [==============================] - 5s 96ms/step - loss: 40.7002 - accuracy: 0.5503 - val_loss: 40.6449 - val_accuracy: 0.5879 - lr: 6.2500e-06\n",
            "Epoch 22/100\n",
            "50/50 [==============================] - 5s 96ms/step - loss: 41.1919 - accuracy: 0.5339 - val_loss: 40.6421 - val_accuracy: 0.5779 - lr: 6.2500e-06\n",
            "Epoch 23/100\n",
            "50/50 [==============================] - 4s 86ms/step - loss: 40.6013 - accuracy: 0.5389 - val_loss: 39.9335 - val_accuracy: 0.5628 - lr: 6.2500e-06\n",
            "Epoch 24/100\n",
            "50/50 [==============================] - 5s 97ms/step - loss: 40.7710 - accuracy: 0.5327 - val_loss: 40.1238 - val_accuracy: 0.5779 - lr: 1.5625e-06\n",
            "Epoch 25/100\n",
            "50/50 [==============================] - 4s 87ms/step - loss: 40.6543 - accuracy: 0.5327 - val_loss: 40.2246 - val_accuracy: 0.5879 - lr: 1.5625e-06\n",
            "Epoch 26/100\n",
            "50/50 [==============================] - 5s 97ms/step - loss: 40.7706 - accuracy: 0.5339 - val_loss: 39.9000 - val_accuracy: 0.5879 - lr: 1.5625e-06\n",
            "Epoch 27/100\n",
            "50/50 [==============================] - 4s 84ms/step - loss: 40.9910 - accuracy: 0.5163 - val_loss: 39.9776 - val_accuracy: 0.5829 - lr: 3.9062e-07\n",
            "Epoch 28/100\n",
            "50/50 [==============================] - 4s 87ms/step - loss: 40.8968 - accuracy: 0.5214 - val_loss: 40.0101 - val_accuracy: 0.5829 - lr: 3.9062e-07\n",
            "Epoch 29/100\n",
            "50/50 [==============================] - 5s 96ms/step - loss: 40.9105 - accuracy: 0.5565 - val_loss: 40.0893 - val_accuracy: 0.5879 - lr: 3.9062e-07\n",
            "Epoch 30/100\n",
            "50/50 [==============================] - 5s 94ms/step - loss: 40.7656 - accuracy: 0.5126 - val_loss: 40.0819 - val_accuracy: 0.5879 - lr: 9.7656e-08\n"
          ]
        }
      ]
    },
    {
      "cell_type": "code",
      "source": [
        "first_image = trainImages[0]\n",
        "print(type(first_image))\n",
        "print(first_image.shape)"
      ],
      "metadata": {
        "id": "mZvbR-4XEAXK",
        "outputId": "94d3545d-c728-444f-e768-d54883f15791",
        "colab": {
          "base_uri": "https://localhost:8080/"
        }
      },
      "execution_count": 20,
      "outputs": [
        {
          "output_type": "stream",
          "name": "stdout",
          "text": [
            "<class 'numpy.ndarray'>\n",
            "(224, 224, 3)\n"
          ]
        }
      ]
    },
    {
      "cell_type": "code",
      "source": [
        "def crop_images(images, bboxes):\n",
        "    cropped_images = []\n",
        "    for image, bbox in zip(images, bboxes):\n",
        "        if not isinstance(image, np.ndarray) or len(image.shape) != 3:\n",
        "            raise ValueError(\"Input images must be 3D arrays\")\n",
        "\n",
        "        if len(bbox) != 4:\n",
        "            raise ValueError(\"Bounding box must have 4 coordinates (xmin, ymin, xmax, ymax)\")\n",
        "\n",
        "        xmin, ymin, xmax, ymax = bbox\n",
        "        xmin = max(0, int(xmin))\n",
        "        ymin = max(0, int(ymin))\n",
        "        xmax = min(image.shape[1], int(xmax))\n",
        "        ymax = min(image.shape[0], int(ymax))\n",
        "        cropped_image = image[ymin:ymax, xmin:xmax, :]\n",
        "        cropped_images.append(cropped_image)\n",
        "\n",
        "    return cropped_images"
      ],
      "metadata": {
        "id": "_tmEqc1PAdtr"
      },
      "execution_count": 23,
      "outputs": []
    },
    {
      "cell_type": "code",
      "source": [
        "trainImages = crop_images(trainImages, trainBBoxes)"
      ],
      "metadata": {
        "id": "WPg35XorAgrL"
      },
      "execution_count": 24,
      "outputs": []
    },
    {
      "cell_type": "code",
      "source": [
        "first_image = trainImages[0]\n",
        "print(type(first_image))\n",
        "print(first_image.shape)"
      ],
      "metadata": {
        "id": "kM2mEWP2_Phd",
        "outputId": "e4030169-d63d-49c3-a3b9-8fcbedb1074a",
        "colab": {
          "base_uri": "https://localhost:8080/"
        }
      },
      "execution_count": 25,
      "outputs": [
        {
          "output_type": "stream",
          "name": "stdout",
          "text": [
            "<class 'numpy.ndarray'>\n",
            "(5, 6, 3)\n"
          ]
        }
      ]
    },
    {
      "cell_type": "code",
      "source": [
        "print(len(trainImages))"
      ],
      "metadata": {
        "id": "OG0ARUPcCDzH",
        "outputId": "53259c67-a13a-448b-8e5d-6c4d569f3ad7",
        "colab": {
          "base_uri": "https://localhost:8080/"
        }
      },
      "execution_count": null,
      "outputs": [
        {
          "output_type": "stream",
          "name": "stdout",
          "text": [
            "995\n"
          ]
        }
      ]
    },
    {
      "cell_type": "code",
      "source": [
        "import matplotlib.pyplot as plt\n",
        "indices_to_display = [0, 1, 2, 3, 4, 5, 6]\n",
        "fig, axes = plt.subplots(1, 7, figsize=(12, 4))\n",
        "\n",
        "for i, idx in enumerate(indices_to_display):\n",
        "    image = trainImages[idx]\n",
        "    axes[i].imshow(image)\n",
        "    axes[i].set_title(f'Image {idx}')\n",
        "    axes[i].axis('off')\n",
        "\n",
        "plt.tight_layout()\n",
        "plt.show()"
      ],
      "metadata": {
        "id": "dF2Nft3NB-dz",
        "outputId": "2f476012-d7e8-4ea7-90dd-4d3522bb329d",
        "colab": {
          "base_uri": "https://localhost:8080/",
          "height": 227
        }
      },
      "execution_count": 27,
      "outputs": [
        {
          "output_type": "display_data",
          "data": {
            "text/plain": [
              "<Figure size 1200x400 with 7 Axes>"
            ],
            "image/png": "[encoded data removed]"
          },
          "metadata": {}
        }
      ]
    },
    {
      "cell_type": "code",
      "source": [
        "features = extract_features_erosion_dilatation(trainImages,32,32)"
      ],
      "metadata": {
        "id": "aC3TOrWjAf8d",
        "outputId": "28840b45-4f00-4e7d-f477-d2e69b17d8cd",
        "colab": {
          "base_uri": "https://localhost:8080/",
          "height": 49,
          "referenced_widgets": [
            "d39ed92334d04f6fa0f96839dcd2c11f",
            "e95d97fce0e044339faffae7aee4d104",
            "c7102c50d62a4bf593af0e87937cb91e",
            "15945ae0f53147a18ac812c1825dad1d",
            "087b9e66bc8443b59c4b4612f0eb6e1b",
            "b4f065dd8f0d4ae2bcfc07d1633ba9ec",
            "1a176dfe81aa47c5b685ba9d5842830f",
            "c71941b2e7294bb08d499020efe23779",
            "eddeb015ec0d437c9a418bdc79b45fde",
            "3f38f8f856f445a2a29751f39b21e8da",
            "1bf21241d18947638e2cb9b53ff94be2"
          ]
        }
      },
      "execution_count": 40,
      "outputs": [
        {
          "output_type": "display_data",
          "data": {
            "text/plain": [
              "  0%|          | 0/995 [00:00<?, ?it/s]"
            ],
            "application/vnd.jupyter.widget-view+json": {
              "version_major": 2,
              "version_minor": 0,
              "model_id": "d39ed92334d04f6fa0f96839dcd2c11f"
            }
          },
          "metadata": {}
        }
      ]
    },
    {
      "cell_type": "code",
      "source": [
        "import matplotlib.pyplot as plt\n",
        "indices_to_display = [0, 1, 2, 3, 4, 5, 6]\n",
        "fig, axes = plt.subplots(1, 7, figsize=(12, 4))\n",
        "\n",
        "for i, idx in enumerate(indices_to_display):\n",
        "    image = features[idx]\n",
        "    axes[i].imshow(image)\n",
        "    axes[i].set_title(f'Image {idx}')\n",
        "    axes[i].axis('off')\n",
        "\n",
        "plt.tight_layout()\n",
        "plt.show()"
      ],
      "metadata": {
        "id": "e3iG-EpaActh",
        "outputId": "cb247210-f2fc-4d4d-be3e-b30fd66aee92",
        "colab": {
          "base_uri": "https://localhost:8080/",
          "height": 213
        }
      },
      "execution_count": 51,
      "outputs": [
        {
          "output_type": "display_data",
          "data": {
            "text/plain": [
              "<Figure size 1200x400 with 7 Axes>"
            ],
            "image/png": "[encoded data removed]"
          },
          "metadata": {}
        }
      ]
    },
    {
      "cell_type": "code",
      "source": [
        "from tensorflow.keras.applications import ResNet50\n",
        "from tensorflow.keras.layers import Flatten, Input\n",
        "\n",
        "resnet = ResNet50(weights=\"imagenet\",\n",
        "                  include_top=False,\n",
        "                  input_tensor=Input(shape=(32, 32, 3)))\n",
        "resnet.trainable = False\n",
        "flatten = resnet.output\n",
        "flatten = Flatten()(flatten)"
      ],
      "metadata": {
        "id": "96c2m0kLAacW"
      },
      "execution_count": 42,
      "outputs": []
    },
    {
      "cell_type": "code",
      "source": [
        "softmaxHead = Dense(512, activation=\"relu\", kernel_regularizer=regularizers.l2(0.01))(flatten)\n",
        "softmaxHead = Dropout(0.3)(softmaxHead)\n",
        "softmaxHead = Dense(512, activation=\"relu\", kernel_regularizer=regularizers.l2(0.01))(softmaxHead)\n",
        "softmaxHead = Dropout(0.3)(softmaxHead)\n",
        "softmaxHead = Dense(512, activation=\"relu\", kernel_regularizer=regularizers.l2(0.01))(softmaxHead)\n",
        "softmaxHead = Dropout(0.3)(softmaxHead)\n",
        "softmaxHead = Dense(256, activation=\"relu\")(softmaxHead)\n",
        "softmaxHead = Dense(len(lb.classes_), activation=\"softmax\", name=\"class_label\")(softmaxHead)"
      ],
      "metadata": {
        "id": "PUuP1XaS9WqW"
      },
      "execution_count": 43,
      "outputs": []
    },
    {
      "cell_type": "code",
      "source": [
        "clasificationmodel = Model(\n",
        "    inputs=resnet.input,\n",
        "    outputs=softmaxHead)"
      ],
      "metadata": {
        "id": "cMG8CFmA9e6R"
      },
      "execution_count": 44,
      "outputs": []
    },
    {
      "cell_type": "code",
      "source": [
        "INIT_LR = 0.0001\n",
        "NUM_EPOCHS = 100\n",
        "BATCH_SIZE = 16\n",
        "\n",
        "early_stopping = EarlyStopping(monitor='val_loss', patience=10, restore_best_weights=True)\n",
        "\n",
        "lr = ReduceLROnPlateau(factor=0.5, patience=5)"
      ],
      "metadata": {
        "id": "9zV1DiTC9kkI"
      },
      "execution_count": 45,
      "outputs": []
    },
    {
      "cell_type": "code",
      "source": [
        "opt = Adam(INIT_LR)\n",
        "\n",
        "clasificationmodel.compile(loss=\"categorical_crossentropy\",\n",
        "              optimizer=opt,\n",
        "              metrics=[\"accuracy\"])"
      ],
      "metadata": {
        "id": "SVjRN1LV9mAs"
      },
      "execution_count": 46,
      "outputs": []
    },
    {
      "cell_type": "code",
      "source": [
        "history = clasificationmodel.fit(\n",
        "    features, trainLabels,\n",
        "    validation_split=0.2,\n",
        "    batch_size=BATCH_SIZE,\n",
        "    epochs=NUM_EPOCHS,\n",
        "    callbacks=[early_stopping,lr],\n",
        "    verbose=1)"
      ],
      "metadata": {
        "id": "weySY9G39rZ_",
        "outputId": "9b687fcd-5f78-4ecc-8d62-3c29688044aa",
        "colab": {
          "base_uri": "https://localhost:8080/"
        }
      },
      "execution_count": 47,
      "outputs": [
        {
          "output_type": "stream",
          "name": "stdout",
          "text": [
            "Epoch 1/100\n",
            "50/50 [==============================] - 14s 157ms/step - loss: 1.2035 - accuracy: 0.5653 - val_loss: 1.0720 - val_accuracy: 0.6131 - lr: 1.0000e-04\n",
            "Epoch 2/100\n",
            "50/50 [==============================] - 5s 105ms/step - loss: 1.0958 - accuracy: 0.6030 - val_loss: 1.1215 - val_accuracy: 0.6131 - lr: 1.0000e-04\n",
            "Epoch 3/100\n",
            "50/50 [==============================] - 7s 138ms/step - loss: 1.0865 - accuracy: 0.6055 - val_loss: 1.0843 - val_accuracy: 0.6131 - lr: 1.0000e-04\n",
            "Epoch 4/100\n",
            "50/50 [==============================] - 6s 113ms/step - loss: 1.0322 - accuracy: 0.6344 - val_loss: 1.1035 - val_accuracy: 0.6181 - lr: 1.0000e-04\n",
            "Epoch 5/100\n",
            "50/50 [==============================] - 7s 133ms/step - loss: 1.0217 - accuracy: 0.6244 - val_loss: 1.0411 - val_accuracy: 0.6131 - lr: 1.0000e-04\n",
            "Epoch 6/100\n",
            "50/50 [==============================] - 5s 105ms/step - loss: 1.0081 - accuracy: 0.6332 - val_loss: 1.1152 - val_accuracy: 0.5427 - lr: 1.0000e-04\n",
            "Epoch 7/100\n",
            "50/50 [==============================] - 6s 117ms/step - loss: 0.9803 - accuracy: 0.6294 - val_loss: 1.0386 - val_accuracy: 0.6181 - lr: 1.0000e-04\n",
            "Epoch 8/100\n",
            "50/50 [==============================] - 6s 121ms/step - loss: 0.9647 - accuracy: 0.6256 - val_loss: 0.9824 - val_accuracy: 0.6281 - lr: 1.0000e-04\n",
            "Epoch 9/100\n",
            "50/50 [==============================] - 5s 109ms/step - loss: 0.9475 - accuracy: 0.6420 - val_loss: 0.9711 - val_accuracy: 0.6131 - lr: 1.0000e-04\n",
            "Epoch 10/100\n",
            "50/50 [==============================] - 7s 135ms/step - loss: 0.9198 - accuracy: 0.6382 - val_loss: 0.9680 - val_accuracy: 0.6332 - lr: 1.0000e-04\n",
            "Epoch 11/100\n",
            "50/50 [==============================] - 6s 116ms/step - loss: 0.9122 - accuracy: 0.6508 - val_loss: 0.9532 - val_accuracy: 0.6131 - lr: 1.0000e-04\n",
            "Epoch 12/100\n",
            "50/50 [==============================] - 7s 134ms/step - loss: 0.8728 - accuracy: 0.6746 - val_loss: 0.9416 - val_accuracy: 0.6533 - lr: 1.0000e-04\n",
            "Epoch 13/100\n",
            "50/50 [==============================] - 6s 116ms/step - loss: 0.8706 - accuracy: 0.6721 - val_loss: 0.9112 - val_accuracy: 0.6633 - lr: 1.0000e-04\n",
            "Epoch 14/100\n",
            "50/50 [==============================] - 7s 133ms/step - loss: 0.8495 - accuracy: 0.6809 - val_loss: 0.9012 - val_accuracy: 0.6734 - lr: 1.0000e-04\n",
            "Epoch 15/100\n",
            "50/50 [==============================] - 6s 116ms/step - loss: 0.8303 - accuracy: 0.6884 - val_loss: 0.9006 - val_accuracy: 0.6834 - lr: 1.0000e-04\n",
            "Epoch 16/100\n",
            "50/50 [==============================] - 8s 156ms/step - loss: 0.8169 - accuracy: 0.6872 - val_loss: 0.8887 - val_accuracy: 0.6683 - lr: 1.0000e-04\n",
            "Epoch 17/100\n",
            "50/50 [==============================] - 6s 116ms/step - loss: 0.8412 - accuracy: 0.6721 - val_loss: 0.9285 - val_accuracy: 0.6231 - lr: 1.0000e-04\n",
            "Epoch 18/100\n",
            "50/50 [==============================] - 7s 132ms/step - loss: 0.8068 - accuracy: 0.6997 - val_loss: 0.8763 - val_accuracy: 0.6884 - lr: 1.0000e-04\n",
            "Epoch 19/100\n",
            "50/50 [==============================] - 5s 109ms/step - loss: 0.7895 - accuracy: 0.6922 - val_loss: 0.8392 - val_accuracy: 0.6734 - lr: 1.0000e-04\n",
            "Epoch 20/100\n",
            "50/50 [==============================] - 7s 141ms/step - loss: 0.7629 - accuracy: 0.6972 - val_loss: 0.8492 - val_accuracy: 0.6935 - lr: 1.0000e-04\n",
            "Epoch 21/100\n",
            "50/50 [==============================] - 5s 107ms/step - loss: 0.7746 - accuracy: 0.7148 - val_loss: 0.8706 - val_accuracy: 0.6985 - lr: 1.0000e-04\n",
            "Epoch 22/100\n",
            "50/50 [==============================] - 7s 143ms/step - loss: 0.7788 - accuracy: 0.7035 - val_loss: 0.8493 - val_accuracy: 0.6834 - lr: 1.0000e-04\n",
            "Epoch 23/100\n",
            "50/50 [==============================] - 6s 111ms/step - loss: 0.7472 - accuracy: 0.7211 - val_loss: 0.8036 - val_accuracy: 0.6834 - lr: 1.0000e-04\n",
            "Epoch 24/100\n",
            "50/50 [==============================] - 6s 119ms/step - loss: 0.7585 - accuracy: 0.7261 - val_loss: 0.7938 - val_accuracy: 0.6935 - lr: 1.0000e-04\n",
            "Epoch 25/100\n",
            "50/50 [==============================] - 7s 132ms/step - loss: 0.7421 - accuracy: 0.7224 - val_loss: 0.7786 - val_accuracy: 0.7085 - lr: 1.0000e-04\n",
            "Epoch 26/100\n",
            "50/50 [==============================] - 6s 114ms/step - loss: 0.7271 - accuracy: 0.7450 - val_loss: 0.8308 - val_accuracy: 0.6734 - lr: 1.0000e-04\n",
            "Epoch 27/100\n",
            "50/50 [==============================] - 7s 139ms/step - loss: 0.7221 - accuracy: 0.7312 - val_loss: 0.7728 - val_accuracy: 0.7186 - lr: 1.0000e-04\n",
            "Epoch 28/100\n",
            "50/50 [==============================] - 6s 117ms/step - loss: 0.7039 - accuracy: 0.7249 - val_loss: 0.7471 - val_accuracy: 0.7186 - lr: 1.0000e-04\n",
            "Epoch 29/100\n",
            "50/50 [==============================] - 7s 135ms/step - loss: 0.7113 - accuracy: 0.7412 - val_loss: 0.7838 - val_accuracy: 0.7085 - lr: 1.0000e-04\n",
            "Epoch 30/100\n",
            "50/50 [==============================] - 6s 115ms/step - loss: 0.6956 - accuracy: 0.7412 - val_loss: 0.7494 - val_accuracy: 0.7387 - lr: 1.0000e-04\n",
            "Epoch 31/100\n",
            "50/50 [==============================] - 7s 141ms/step - loss: 0.6760 - accuracy: 0.7575 - val_loss: 0.8028 - val_accuracy: 0.6784 - lr: 1.0000e-04\n",
            "Epoch 32/100\n",
            "50/50 [==============================] - 6s 119ms/step - loss: 0.6851 - accuracy: 0.7588 - val_loss: 0.8168 - val_accuracy: 0.6683 - lr: 1.0000e-04\n",
            "Epoch 33/100\n",
            "50/50 [==============================] - 7s 136ms/step - loss: 0.6692 - accuracy: 0.7475 - val_loss: 0.7610 - val_accuracy: 0.6985 - lr: 1.0000e-04\n",
            "Epoch 34/100\n",
            "50/50 [==============================] - 6s 114ms/step - loss: 0.6499 - accuracy: 0.7638 - val_loss: 0.7589 - val_accuracy: 0.7286 - lr: 5.0000e-05\n",
            "Epoch 35/100\n",
            "50/50 [==============================] - 8s 154ms/step - loss: 0.6203 - accuracy: 0.7638 - val_loss: 0.7176 - val_accuracy: 0.7286 - lr: 5.0000e-05\n",
            "Epoch 36/100\n",
            "50/50 [==============================] - 6s 113ms/step - loss: 0.6328 - accuracy: 0.7638 - val_loss: 0.7190 - val_accuracy: 0.7337 - lr: 5.0000e-05\n",
            "Epoch 37/100\n",
            "50/50 [==============================] - 8s 154ms/step - loss: 0.6621 - accuracy: 0.7588 - val_loss: 0.7297 - val_accuracy: 0.7387 - lr: 5.0000e-05\n",
            "Epoch 38/100\n",
            "50/50 [==============================] - 6s 111ms/step - loss: 0.6153 - accuracy: 0.7764 - val_loss: 0.7076 - val_accuracy: 0.7136 - lr: 5.0000e-05\n",
            "Epoch 39/100\n",
            "50/50 [==============================] - 8s 152ms/step - loss: 0.5952 - accuracy: 0.7827 - val_loss: 0.7228 - val_accuracy: 0.7387 - lr: 5.0000e-05\n",
            "Epoch 40/100\n",
            "50/50 [==============================] - 6s 112ms/step - loss: 0.6243 - accuracy: 0.7588 - val_loss: 0.6945 - val_accuracy: 0.7387 - lr: 5.0000e-05\n",
            "Epoch 41/100\n",
            "50/50 [==============================] - 7s 150ms/step - loss: 0.6013 - accuracy: 0.7714 - val_loss: 0.7302 - val_accuracy: 0.7487 - lr: 5.0000e-05\n",
            "Epoch 42/100\n",
            "50/50 [==============================] - 5s 109ms/step - loss: 0.6197 - accuracy: 0.7764 - val_loss: 0.7131 - val_accuracy: 0.7437 - lr: 5.0000e-05\n",
            "Epoch 43/100\n",
            "50/50 [==============================] - 7s 146ms/step - loss: 0.5888 - accuracy: 0.7877 - val_loss: 0.7020 - val_accuracy: 0.7286 - lr: 5.0000e-05\n",
            "Epoch 44/100\n",
            "50/50 [==============================] - 6s 117ms/step - loss: 0.6040 - accuracy: 0.7789 - val_loss: 0.6929 - val_accuracy: 0.7337 - lr: 5.0000e-05\n",
            "Epoch 45/100\n",
            "50/50 [==============================] - 7s 150ms/step - loss: 0.5967 - accuracy: 0.7789 - val_loss: 0.6982 - val_accuracy: 0.7337 - lr: 5.0000e-05\n",
            "Epoch 46/100\n",
            "50/50 [==============================] - 6s 110ms/step - loss: 0.5709 - accuracy: 0.7864 - val_loss: 0.6925 - val_accuracy: 0.7186 - lr: 5.0000e-05\n",
            "Epoch 47/100\n",
            "50/50 [==============================] - 6s 124ms/step - loss: 0.5844 - accuracy: 0.7827 - val_loss: 0.7179 - val_accuracy: 0.7186 - lr: 5.0000e-05\n",
            "Epoch 48/100\n",
            "50/50 [==============================] - 6s 116ms/step - loss: 0.5777 - accuracy: 0.7852 - val_loss: 0.7038 - val_accuracy: 0.7186 - lr: 5.0000e-05\n",
            "Epoch 49/100\n",
            "50/50 [==============================] - 6s 111ms/step - loss: 0.5743 - accuracy: 0.7827 - val_loss: 0.6775 - val_accuracy: 0.7437 - lr: 5.0000e-05\n",
            "Epoch 50/100\n",
            "50/50 [==============================] - 7s 142ms/step - loss: 0.5808 - accuracy: 0.7940 - val_loss: 0.6976 - val_accuracy: 0.7337 - lr: 5.0000e-05\n",
            "Epoch 51/100\n",
            "50/50 [==============================] - 6s 118ms/step - loss: 0.5562 - accuracy: 0.7889 - val_loss: 0.7313 - val_accuracy: 0.7136 - lr: 5.0000e-05\n",
            "Epoch 52/100\n",
            "50/50 [==============================] - 7s 143ms/step - loss: 0.5768 - accuracy: 0.7927 - val_loss: 0.7050 - val_accuracy: 0.7136 - lr: 5.0000e-05\n",
            "Epoch 53/100\n",
            "50/50 [==============================] - 6s 117ms/step - loss: 0.5528 - accuracy: 0.7990 - val_loss: 0.6718 - val_accuracy: 0.7487 - lr: 5.0000e-05\n",
            "Epoch 54/100\n",
            "50/50 [==============================] - 7s 142ms/step - loss: 0.5592 - accuracy: 0.8103 - val_loss: 0.7127 - val_accuracy: 0.7286 - lr: 5.0000e-05\n",
            "Epoch 55/100\n",
            "50/50 [==============================] - 6s 115ms/step - loss: 0.5597 - accuracy: 0.8065 - val_loss: 0.7137 - val_accuracy: 0.7085 - lr: 5.0000e-05\n",
            "Epoch 56/100\n",
            "50/50 [==============================] - 7s 137ms/step - loss: 0.5660 - accuracy: 0.7877 - val_loss: 0.6701 - val_accuracy: 0.7487 - lr: 5.0000e-05\n",
            "Epoch 57/100\n",
            "50/50 [==============================] - 6s 115ms/step - loss: 0.5552 - accuracy: 0.7965 - val_loss: 0.6893 - val_accuracy: 0.7387 - lr: 5.0000e-05\n",
            "Epoch 58/100\n",
            "50/50 [==============================] - 7s 135ms/step - loss: 0.5520 - accuracy: 0.7977 - val_loss: 0.6799 - val_accuracy: 0.7437 - lr: 5.0000e-05\n",
            "Epoch 59/100\n",
            "50/50 [==============================] - 5s 109ms/step - loss: 0.5524 - accuracy: 0.8128 - val_loss: 0.6781 - val_accuracy: 0.7387 - lr: 5.0000e-05\n",
            "Epoch 60/100\n",
            "50/50 [==============================] - 6s 120ms/step - loss: 0.5452 - accuracy: 0.8028 - val_loss: 0.6996 - val_accuracy: 0.7337 - lr: 5.0000e-05\n",
            "Epoch 61/100\n",
            "50/50 [==============================] - 6s 123ms/step - loss: 0.5470 - accuracy: 0.7952 - val_loss: 0.6511 - val_accuracy: 0.7588 - lr: 5.0000e-05\n",
            "Epoch 62/100\n",
            "50/50 [==============================] - 5s 109ms/step - loss: 0.5342 - accuracy: 0.8065 - val_loss: 0.6654 - val_accuracy: 0.7688 - lr: 5.0000e-05\n",
            "Epoch 63/100\n",
            "50/50 [==============================] - 7s 136ms/step - loss: 0.5471 - accuracy: 0.7877 - val_loss: 0.7051 - val_accuracy: 0.7337 - lr: 5.0000e-05\n",
            "Epoch 64/100\n",
            "50/50 [==============================] - 6s 118ms/step - loss: 0.5286 - accuracy: 0.8003 - val_loss: 0.6476 - val_accuracy: 0.7538 - lr: 5.0000e-05\n",
            "Epoch 65/100\n",
            "50/50 [==============================] - 7s 136ms/step - loss: 0.5380 - accuracy: 0.8053 - val_loss: 0.6509 - val_accuracy: 0.7588 - lr: 5.0000e-05\n",
            "Epoch 66/100\n",
            "50/50 [==============================] - 5s 109ms/step - loss: 0.5207 - accuracy: 0.8141 - val_loss: 0.6551 - val_accuracy: 0.7286 - lr: 5.0000e-05\n",
            "Epoch 67/100\n",
            "50/50 [==============================] - 8s 165ms/step - loss: 0.5159 - accuracy: 0.8116 - val_loss: 0.6408 - val_accuracy: 0.7638 - lr: 5.0000e-05\n",
            "Epoch 68/100\n",
            "50/50 [==============================] - 6s 118ms/step - loss: 0.5303 - accuracy: 0.8053 - val_loss: 0.6769 - val_accuracy: 0.7387 - lr: 5.0000e-05\n",
            "Epoch 69/100\n",
            "50/50 [==============================] - 9s 173ms/step - loss: 0.5133 - accuracy: 0.8015 - val_loss: 0.6466 - val_accuracy: 0.7588 - lr: 5.0000e-05\n",
            "Epoch 70/100\n",
            "50/50 [==============================] - 5s 108ms/step - loss: 0.5123 - accuracy: 0.8065 - val_loss: 0.6939 - val_accuracy: 0.7437 - lr: 5.0000e-05\n",
            "Epoch 71/100\n",
            "50/50 [==============================] - 6s 125ms/step - loss: 0.5196 - accuracy: 0.8065 - val_loss: 0.6464 - val_accuracy: 0.7688 - lr: 5.0000e-05\n",
            "Epoch 72/100\n",
            "50/50 [==============================] - 6s 119ms/step - loss: 0.5181 - accuracy: 0.7952 - val_loss: 0.6297 - val_accuracy: 0.7588 - lr: 5.0000e-05\n",
            "Epoch 73/100\n",
            "50/50 [==============================] - 6s 116ms/step - loss: 0.5156 - accuracy: 0.8166 - val_loss: 0.6579 - val_accuracy: 0.7638 - lr: 5.0000e-05\n",
            "Epoch 74/100\n",
            "50/50 [==============================] - 13s 252ms/step - loss: 0.5202 - accuracy: 0.8103 - val_loss: 0.6218 - val_accuracy: 0.7789 - lr: 5.0000e-05\n",
            "Epoch 75/100\n",
            "50/50 [==============================] - 12s 235ms/step - loss: 0.5081 - accuracy: 0.8141 - val_loss: 0.6692 - val_accuracy: 0.7638 - lr: 5.0000e-05\n",
            "Epoch 76/100\n",
            "50/50 [==============================] - 9s 190ms/step - loss: 0.5112 - accuracy: 0.8015 - val_loss: 0.6194 - val_accuracy: 0.7739 - lr: 5.0000e-05\n",
            "Epoch 77/100\n",
            "50/50 [==============================] - 5s 108ms/step - loss: 0.4931 - accuracy: 0.8028 - val_loss: 0.6280 - val_accuracy: 0.7538 - lr: 5.0000e-05\n",
            "Epoch 78/100\n",
            "50/50 [==============================] - 7s 135ms/step - loss: 0.4924 - accuracy: 0.8216 - val_loss: 0.6182 - val_accuracy: 0.7739 - lr: 5.0000e-05\n",
            "Epoch 79/100\n",
            "50/50 [==============================] - 5s 108ms/step - loss: 0.5012 - accuracy: 0.8128 - val_loss: 0.6825 - val_accuracy: 0.7437 - lr: 5.0000e-05\n",
            "Epoch 80/100\n",
            "50/50 [==============================] - 7s 147ms/step - loss: 0.4795 - accuracy: 0.8291 - val_loss: 0.6172 - val_accuracy: 0.7789 - lr: 5.0000e-05\n",
            "Epoch 81/100\n",
            "50/50 [==============================] - 6s 115ms/step - loss: 0.4978 - accuracy: 0.8166 - val_loss: 0.6289 - val_accuracy: 0.7688 - lr: 5.0000e-05\n",
            "Epoch 82/100\n",
            "50/50 [==============================] - 7s 148ms/step - loss: 0.4905 - accuracy: 0.8090 - val_loss: 0.6398 - val_accuracy: 0.7337 - lr: 5.0000e-05\n",
            "Epoch 83/100\n",
            "50/50 [==============================] - 6s 116ms/step - loss: 0.4855 - accuracy: 0.8065 - val_loss: 0.6355 - val_accuracy: 0.7588 - lr: 5.0000e-05\n",
            "Epoch 84/100\n",
            "50/50 [==============================] - 7s 150ms/step - loss: 0.4814 - accuracy: 0.8153 - val_loss: 0.6133 - val_accuracy: 0.7638 - lr: 5.0000e-05\n",
            "Epoch 85/100\n",
            "50/50 [==============================] - 6s 112ms/step - loss: 0.4866 - accuracy: 0.8229 - val_loss: 0.6132 - val_accuracy: 0.7789 - lr: 5.0000e-05\n",
            "Epoch 86/100\n",
            "50/50 [==============================] - 7s 150ms/step - loss: 0.4750 - accuracy: 0.8266 - val_loss: 0.6112 - val_accuracy: 0.7638 - lr: 5.0000e-05\n",
            "Epoch 87/100\n",
            "50/50 [==============================] - 6s 126ms/step - loss: 0.4722 - accuracy: 0.8241 - val_loss: 0.6432 - val_accuracy: 0.7789 - lr: 5.0000e-05\n",
            "Epoch 88/100\n",
            "50/50 [==============================] - 8s 168ms/step - loss: 0.4998 - accuracy: 0.8241 - val_loss: 0.6502 - val_accuracy: 0.7739 - lr: 5.0000e-05\n",
            "Epoch 89/100\n",
            "50/50 [==============================] - 6s 121ms/step - loss: 0.4779 - accuracy: 0.8317 - val_loss: 0.6090 - val_accuracy: 0.7789 - lr: 5.0000e-05\n",
            "Epoch 90/100\n",
            "50/50 [==============================] - 7s 144ms/step - loss: 0.4738 - accuracy: 0.8216 - val_loss: 0.7381 - val_accuracy: 0.7136 - lr: 5.0000e-05\n",
            "Epoch 91/100\n",
            "50/50 [==============================] - 6s 119ms/step - loss: 0.4788 - accuracy: 0.8116 - val_loss: 0.5820 - val_accuracy: 0.7789 - lr: 5.0000e-05\n",
            "Epoch 92/100\n",
            "50/50 [==============================] - 8s 158ms/step - loss: 0.4783 - accuracy: 0.8329 - val_loss: 0.6854 - val_accuracy: 0.7286 - lr: 5.0000e-05\n",
            "Epoch 93/100\n",
            "50/50 [==============================] - 5s 109ms/step - loss: 0.4540 - accuracy: 0.8342 - val_loss: 0.6152 - val_accuracy: 0.7789 - lr: 5.0000e-05\n",
            "Epoch 94/100\n",
            "50/50 [==============================] - 8s 156ms/step - loss: 0.4545 - accuracy: 0.8367 - val_loss: 0.6383 - val_accuracy: 0.7688 - lr: 5.0000e-05\n",
            "Epoch 95/100\n",
            "50/50 [==============================] - 6s 114ms/step - loss: 0.4734 - accuracy: 0.8317 - val_loss: 0.5954 - val_accuracy: 0.7588 - lr: 5.0000e-05\n",
            "Epoch 96/100\n",
            "50/50 [==============================] - 6s 127ms/step - loss: 0.4825 - accuracy: 0.8166 - val_loss: 0.6082 - val_accuracy: 0.7940 - lr: 5.0000e-05\n",
            "Epoch 97/100\n",
            "50/50 [==============================] - 5s 109ms/step - loss: 0.4558 - accuracy: 0.8304 - val_loss: 0.6045 - val_accuracy: 0.7638 - lr: 2.5000e-05\n",
            "Epoch 98/100\n",
            "50/50 [==============================] - 6s 114ms/step - loss: 0.4465 - accuracy: 0.8379 - val_loss: 0.5898 - val_accuracy: 0.7839 - lr: 2.5000e-05\n",
            "Epoch 99/100\n",
            "50/50 [==============================] - 7s 135ms/step - loss: 0.4386 - accuracy: 0.8367 - val_loss: 0.5944 - val_accuracy: 0.7990 - lr: 2.5000e-05\n",
            "Epoch 100/100\n",
            "50/50 [==============================] - 6s 111ms/step - loss: 0.4167 - accuracy: 0.8505 - val_loss: 0.5796 - val_accuracy: 0.7940 - lr: 2.5000e-05\n"
          ]
        }
      ]
    },
    {
      "cell_type": "code",
      "source": [
        "import matplotlib.pyplot as plt\n",
        "indices_to_display = [0, 1, 2, 3, 4]\n",
        "fig, axes = plt.subplots(1, 5, figsize=(12, 4))\n",
        "\n",
        "for i, idx in enumerate(indices_to_display):\n",
        "    image = features[idx]\n",
        "    axes[i].imshow(image)\n",
        "    axes[i].set_title(f'Image {idx}')\n",
        "    axes[i].axis('off')\n",
        "\n",
        "plt.tight_layout()\n",
        "plt.show()"
      ],
      "metadata": {
        "id": "wru442lLvR_P"
      },
      "execution_count": null,
      "outputs": []
    },
    {
      "cell_type": "code",
      "source": [
        "class_counts = df['class_label'].value_counts()\n",
        "\n",
        "plt.figure(figsize=(10, 6))\n",
        "class_counts.plot(kind='bar', color='skyblue')\n",
        "plt.title('Class Distribution')\n",
        "plt.xlabel('Classes')\n",
        "plt.ylabel('Counts')\n",
        "plt.xticks(rotation=45)\n",
        "plt.grid(axis='y', linestyle='--', alpha=0.7)\n",
        "plt.show()"
      ],
      "metadata": {
        "id": "2REaMuvCDjeA"
      },
      "execution_count": null,
      "outputs": []
    },
    {
      "cell_type": "code",
      "source": [
        "plt.figure(figsize=(8, 6))\n",
        "plt.hist(df['width'], bins=30, color='purple', edgecolor='black')\n",
        "plt.title('Distribution of Image Width')\n",
        "plt.xlabel('Width')\n",
        "plt.ylabel('Frequency')\n",
        "plt.grid(axis='y', linestyle='--', alpha=0.7)\n",
        "plt.show()\n",
        "\n",
        "plt.figure(figsize=(8, 6))\n",
        "plt.hist(df['height'], bins=30, color='red', edgecolor='black')\n",
        "plt.title('Distribution of Image Height')\n",
        "plt.xlabel('Height')\n",
        "plt.ylabel('Frequency')\n",
        "plt.grid(axis='y', linestyle='--', alpha=0.7)\n",
        "plt.show()"
      ],
      "metadata": {
        "id": "TdWGLtozp7o5"
      },
      "execution_count": null,
      "outputs": []
    }
  ]
}